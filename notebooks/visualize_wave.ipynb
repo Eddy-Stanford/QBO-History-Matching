{
 "cells": [
  {
   "cell_type": "markdown",
   "metadata": {},
   "source": [
    "# Visualize Wave of History Matching\n",
    "Plotting scripts to visualize the output from a given wave of history matching included the trained GP emulator, the proposed next wave _(NROY)_ space and the implausibility function. "
   ]
  },
  {
   "cell_type": "code",
   "execution_count": null,
   "metadata": {},
   "outputs": [],
   "source": [
    "import config \n",
    "import joblib \n",
    "import pandas as pd\n",
    "import numpy as np\n",
    "from history_matching.emulator import GPEmulator\n",
    "from history_matching.samples import SampleSpace\n",
    "\n",
    "DATADIR = '/Users/robcking/PhD/history_matching_data/new/50_sample_exp' ## DIRECTORY CONTAINING MODEL OUTPUT FOR A GIVEN W\n",
    "ITERATION_NUMBER = 1 ## ITERATION OF HISTORY MATCHING TO GENERATE PLOTS FOR \n",
    "\n"
   ]
  }
 ],
 "metadata": {
  "kernelspec": {
   "display_name": "env",
   "language": "python",
   "name": "python3"
  },
  "language_info": {
   "name": "python",
   "version": "3.9.6"
  }
 },
 "nbformat": 4,
 "nbformat_minor": 2
}
