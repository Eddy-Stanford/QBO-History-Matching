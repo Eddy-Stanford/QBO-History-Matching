{
 "cells": [
  {
   "attachments": {},
   "cell_type": "markdown",
   "metadata": {},
   "source": [
    "### Inspect current \"default\" MiMA runs\n",
    "Goals of this notebook:\n",
    "* Check the QBO Period + Amplitude consistent with that expected from emulator run\n",
    "* Check the QBO Period/Ampltiude Covariance\n"
   ]
  },
  {
   "cell_type": "code",
   "execution_count": null,
   "metadata": {},
   "outputs": [],
   "source": [
    "import numpy as np\n",
    "import "
   ]
  }
 ],
 "metadata": {
  "language_info": {
   "name": "python"
  },
  "orig_nbformat": 4
 },
 "nbformat": 4,
 "nbformat_minor": 2
}
