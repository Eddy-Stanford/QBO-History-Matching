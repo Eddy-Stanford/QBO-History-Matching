{
 "cells": [
  {
   "cell_type": "code",
   "execution_count": 1,
   "metadata": {},
   "outputs": [
    {
     "name": "stderr",
     "output_type": "stream",
     "text": [
      "Intel(R) Extension for Scikit-learn* enabled (https://github.com/intel/scikit-learn-intelex)\n"
     ]
    }
   ],
   "source": [
    "%matplotlib qt\n",
    "\n",
    "from sklearnex import patch_sklearn\n",
    "patch_sklearn()\n",
    "import pandas as pd\n",
    "import matplotlib.pyplot as plt\n",
    "\n",
    "df = pd.read_csv(\"../data/qbo_data.csv\",index_col=\"run_id\")\n",
    "df = df.sort_values(\"qbo_period_std\")\n"
   ]
  },
  {
   "attachments": {},
   "cell_type": "markdown",
   "metadata": {},
   "source": [
    "## Constants"
   ]
  },
  {
   "cell_type": "code",
   "execution_count": 2,
   "metadata": {},
   "outputs": [],
   "source": [
    "OBS_MEAN = 27.475168565819082\n",
    "OBS_STD = 3.9921132486687365\n",
    "\n",
    "OBS_AMP_MEAN = 26.68333333333334\n",
    "OBS_AMP_STD = 2.7605353748060457\n",
    "\n",
    "CURRENT_CW = 35\n",
    "CURRENT_BT = 0.0043"
   ]
  },
  {
   "cell_type": "code",
   "execution_count": 3,
   "metadata": {},
   "outputs": [],
   "source": [
    "import numpy as np\n",
    "X = df[[\"Bt\",\"cw\"]].to_numpy()\n",
    "y_point_error = df[[\"qbo_period_std\",\"qbo_amplitude_std\"]].to_numpy()\n",
    "y = df[[\"qbo_periods\",\"qbo_amplitude_mean\"]].to_numpy()\n",
    "\n",
    "mean_y = np.mean(y,axis=0)\n",
    "std_y = np.std(y,axis=0)\n",
    "y_norm = (y - mean_y)/std_y\n",
    "y_point_error = y_point_error/std_y"
   ]
  },
  {
   "cell_type": "code",
   "execution_count": 4,
   "metadata": {},
   "outputs": [],
   "source": [
    "from sklearn.decomposition import PCA\n",
    "from sklearn.preprocessing import StandardScaler\n",
    "scaler = StandardScaler()\n",
    "X_scaled = scaler.fit_transform(X)\n",
    "\n",
    "\n"
   ]
  },
  {
   "cell_type": "code",
   "execution_count": 5,
   "metadata": {},
   "outputs": [
    {
     "data": {
      "text/plain": [
       "GaussianProcessRegressor(alpha=array([0.        , 0.03547776, 0.03204514, 0.02129178, 0.03661212,\n",
       "       0.09994381, 0.04752571, 0.02339978, 0.06869182, 0.04361435,\n",
       "       0.02058369, 0.0330511 , 0.029952  , 0.02990572, 0.03962432,\n",
       "       0.04181666, 0.02632595, 0.03740381, 0.11036499, 0.05486589,\n",
       "       0.11988828, 0.01287535, 0.07012233, 0.04252602, 0.01810179,\n",
       "       0.02959773, 0.03893115, 0.03611464, 0.02273579, 0.05...\n",
       "       0.03482906, 0.06321747, 0.124354  , 0.07802362, 0.42698006,\n",
       "       0.05888453, 0.17278043, 0.05400357, 0.50627278, 0.11065289,\n",
       "       0.19951574, 0.0018386 , 0.24543738, 0.11524   , 0.13536967,\n",
       "       0.05538973, 0.58399116, 0.46842607, 0.11437035, 0.37871673,\n",
       "       0.05733359, 0.45538299, 0.07037729, 0.04718549, 0.07573725,\n",
       "       0.08398727, 0.0340759 , 0.04177656, 0.04106591, 0.60142414,\n",
       "       0.14445963, 0.09313113, 0.0329861 , 0.06683739, 0.13460253]))"
      ]
     },
     "execution_count": 5,
     "metadata": {},
     "output_type": "execute_result"
    }
   ],
   "source": [
    "from sklearn.gaussian_process import GaussianProcessRegressor\n",
    "\n",
    "gpr_period = GaussianProcessRegressor(alpha=(y_point_error[:,0])**2)\n",
    "gpr_amplitude = GaussianProcessRegressor(alpha=(y_point_error[:,1])**2)\n",
    "gpr_period.fit(X_scaled,y_norm[:,0])\n",
    "gpr_amplitude.fit(X_scaled,y_norm[:,1])\n"
   ]
  },
  {
   "cell_type": "code",
   "execution_count": 6,
   "metadata": {},
   "outputs": [],
   "source": [
    "import numpy as np\n",
    "cw = np.linspace(5,70,1000)\n",
    "Bt = np.ones(len(cw))*0.0043\n",
    "x_samples = np.array([Bt,cw]).T\n",
    "x_samples = scaler.transform(x_samples)\n",
    "\n"
   ]
  },
  {
   "cell_type": "code",
   "execution_count": 7,
   "metadata": {},
   "outputs": [],
   "source": [
    "samples,samples_std = gpr_period.predict(x_samples,return_std=True)\n",
    "samples = samples*std_y[0] + mean_y[0]"
   ]
  },
  {
   "cell_type": "code",
   "execution_count": 8,
   "metadata": {},
   "outputs": [],
   "source": [
    "# import matplotlib.pyplot as plt\n",
    "# fig,(ax1,ax2)= plt.subplots(nrows=1,ncols=2,figsize=(10,6))\n",
    "\n",
    "# ax1.plot(cw,samples)\n",
    "# ax1.fill_between(\n",
    "#     cw,\n",
    "#     samples - 1.96*samples_std*std_y[0],\n",
    "#     samples + 1.96*samples_std*std_y[0],\n",
    "#     color=\"tab:blue\",\n",
    "#     alpha=0.5,\n",
    "#     label=r\"95% confidence interval\",\n",
    "# )\n",
    "# ax1.axhline(OBS_MEAN,color='black',label=\"True Observation\")\n",
    "# ax1.fill_between(cw,OBS_MEAN-OBS_STD,OBS_MEAN+OBS_STD,color='black',alpha=0.3)\n",
    "# ax1.set_xlabel(\"Cw tropics\")\n",
    "# ax1.set_ylabel(\"QBO Period (months)\")\n",
    "# ax1.errorbar(X[:,1],y[:,0],yerr=y_point_error[:,0]*std_y[0],fmt='o',label=\"MiMA runs\")\n",
    "# ax1.set_ylim(10,40)\n",
    "# ax1.legend()\n",
    "\n",
    "# ax2.plot(cw,implausability)\n",
    "# ax2.axhline(np.percentile(implausability,20),c='g',label=f\"20th percentile implausability cut off \")\n",
    "# ax2.legend()\n",
    "# ax2.set_ylabel(\"1D Implausability\")\n",
    "# ax2.set_xlabel(\"cw\")"
   ]
  },
  {
   "attachments": {},
   "cell_type": "markdown",
   "metadata": {},
   "source": [
    "### 3D Plots?"
   ]
  },
  {
   "cell_type": "code",
   "execution_count": 11,
   "metadata": {},
   "outputs": [],
   "source": [
    "cw = np.linspace(5,70,100)\n",
    "Bt = np.linspace(0.001,0.007,100)\n",
    "X_Bt,Y_cw = np.meshgrid(Bt,cw)\n",
    "x_samples = np.vstack((X_Bt.ravel(),Y_cw.ravel())).T\n",
    "x_samples = scaler.transform(x_samples)\n"
   ]
  },
  {
   "cell_type": "code",
   "execution_count": 74,
   "metadata": {},
   "outputs": [
    {
     "data": {
      "text/plain": [
       "array([0.001     , 0.00106061, 0.00112121, 0.00118182, 0.00124242,\n",
       "       0.00130303, 0.00136364, 0.00142424, 0.00148485, 0.00154545,\n",
       "       0.00160606, 0.00166667, 0.00172727, 0.00178788, 0.00184848,\n",
       "       0.00190909, 0.0019697 , 0.0020303 , 0.00209091, 0.00215152,\n",
       "       0.00221212, 0.00227273, 0.00233333, 0.00239394, 0.00245455,\n",
       "       0.00251515, 0.00257576, 0.00263636, 0.00269697, 0.00275758,\n",
       "       0.00281818, 0.00287879, 0.00293939, 0.003     , 0.00306061,\n",
       "       0.00312121, 0.00318182, 0.00324242, 0.00330303, 0.00336364,\n",
       "       0.00342424, 0.00348485, 0.00354545, 0.00360606, 0.00366667,\n",
       "       0.00372727, 0.00378788, 0.00384848, 0.00390909, 0.0039697 ,\n",
       "       0.0040303 , 0.00409091, 0.00415152, 0.00421212, 0.00427273,\n",
       "       0.00433333, 0.00439394, 0.00445455, 0.00451515, 0.00457576,\n",
       "       0.00463636, 0.00469697, 0.00475758, 0.00481818, 0.00487879,\n",
       "       0.00493939, 0.005     , 0.00506061, 0.00512121, 0.00518182,\n",
       "       0.00524242, 0.00530303, 0.00536364, 0.00542424, 0.00548485,\n",
       "       0.00554545, 0.00560606, 0.00566667, 0.00572727, 0.00578788,\n",
       "       0.00584848, 0.00590909, 0.0059697 , 0.0060303 , 0.00609091,\n",
       "       0.00615152, 0.00621212, 0.00627273, 0.00633333, 0.00639394,\n",
       "       0.00645455, 0.00651515, 0.00657576, 0.00663636, 0.00669697,\n",
       "       0.00675758, 0.00681818, 0.00687879, 0.00693939, 0.007     ])"
      ]
     },
     "execution_count": 74,
     "metadata": {},
     "output_type": "execute_result"
    }
   ],
   "source": [
    "X_Bt[0]"
   ]
  },
  {
   "cell_type": "code",
   "execution_count": 75,
   "metadata": {},
   "outputs": [
    {
     "data": {
      "text/plain": [
       "array([[-1.73387883, -1.7295298 ],\n",
       "       [-1.69884069, -1.7295298 ],\n",
       "       [-1.66380256, -1.7295298 ],\n",
       "       ...,\n",
       "       [ 1.66482008,  1.73161175],\n",
       "       [ 1.69985821,  1.73161175],\n",
       "       [ 1.73489634,  1.73161175]])"
      ]
     },
     "execution_count": 75,
     "metadata": {},
     "output_type": "execute_result"
    }
   ],
   "source": []
  },
  {
   "cell_type": "code",
   "execution_count": 13,
   "metadata": {},
   "outputs": [],
   "source": [
    "period,period_std = gpr_period.predict(x_samples,return_std=True)\n",
    "period = period*std_y[0] + mean_y[0]\n",
    "period = period.reshape((100,100))\n",
    "period_std = (period_std*std_y[0]).reshape((100,100))\n",
    "\n",
    "\n",
    "amplitude,amplitude_std = gpr_amplitude.predict(x_samples,return_std=True)\n",
    "amplitude = amplitude*std_y[1] + mean_y[1]\n",
    "amplitude = amplitude.reshape((100,100))\n",
    "amplitude_std = (amplitude_std*std_y[1]).reshape((100,100))"
   ]
  },
  {
   "cell_type": "code",
   "execution_count": 14,
   "metadata": {},
   "outputs": [],
   "source": [
    "implausability_period = np.abs(period - OBS_MEAN)/np.sqrt(OBS_STD**2 + period_std**2)\n",
    "implausability_amplitude = np.abs(amplitude - OBS_AMP_MEAN)/np.sqrt(OBS_AMP_STD**2 + amplitude_std**2)\n",
    "implausability = np.sqrt(implausability_amplitude**2 + implausability_period**2)"
   ]
  },
  {
   "cell_type": "code",
   "execution_count": 15,
   "metadata": {},
   "outputs": [],
   "source": [
    "imp_cutoff = implausability < np.percentile(implausability,20)"
   ]
  },
  {
   "cell_type": "code",
   "execution_count": 44,
   "metadata": {},
   "outputs": [
    {
     "data": {
      "text/plain": [
       "Text(0.5, 0, 'Bt')"
      ]
     },
     "execution_count": 44,
     "metadata": {},
     "output_type": "execute_result"
    }
   ],
   "source": [
    "fig,(ax1,ax2,ax3) = plt.subplots(1,3,figsize=(14,6))\n",
    "CS = ax1.contour(X_Bt,Y_cw,amplitude,levels=25)\n",
    "ax1.scatter(X[:,0],X[:,1],)\n",
    "ax1.scatter(CURRENT_BT,CURRENT_CW)\n",
    "ax1.clabel(CS, CS.levels, inline=True,  fontsize=10)\n",
    "ax1.set_ylabel(\"Cw\")\n",
    "ax1.set_xlabel(\"Bt\")\n",
    "\n",
    "CS2 = ax2.contour(X_Bt,Y_cw,period,levels=25)\n",
    "ax2.scatter(X[:,0],X[:,1],)\n",
    "ax2.scatter(CURRENT_BT,CURRENT_CW)\n",
    "ax2.clabel(CS2, CS2.levels, inline=True,  fontsize=10)\n",
    "ax2.set_ylabel(\"Cw\")\n",
    "ax2.set_xlabel(\"Bt\")\n",
    "\n",
    "ax3.contour(X_Bt,Y_cw,implausability,levels=25)\n",
    "ax3.contourf(X_Bt,Y_cw,imp_cutoff,alpha=0.3,cmap='RdYlGn')\n",
    "ax3.scatter(X[:,0],X[:,1])\n",
    "ax3.scatter(CURRENT_BT,CURRENT_CW)\n",
    "ax3.set_ylabel(\"Cw\")\n",
    "ax3.set_xlabel(\"Bt\")"
   ]
  },
  {
   "cell_type": "code",
   "execution_count": 38,
   "metadata": {},
   "outputs": [
    {
     "data": {
      "text/plain": [
       "Text(0.5, 0, 'Implausability')"
      ]
     },
     "execution_count": 38,
     "metadata": {},
     "output_type": "execute_result"
    }
   ],
   "source": [
    "from mpl_toolkits.mplot3d import axes3d\n",
    "ax = plt.figure(figsize=(10,10)).add_subplot(projection='3d')\n",
    "ax.plot_surface(X_Bt,Y_cw,implausability,cmap='viridis')\n",
    "ax.set_xlabel(\"Bt\")\n",
    "ax.set_ylabel(\"Cw\")\n",
    "ax.set_zlabel(\"Implausability\")"
   ]
  },
  {
   "attachments": {},
   "cell_type": "markdown",
   "metadata": {},
   "source": [
    "## Calculate Decision Boundary + Sampling"
   ]
  },
  {
   "cell_type": "code",
   "execution_count": 49,
   "metadata": {},
   "outputs": [],
   "source": [
    "y,x=np.random.uniform(low=(5,0.001),high=(70,0.007))"
   ]
  },
  {
   "cell_type": "code",
   "execution_count": 63,
   "metadata": {},
   "outputs": [
    {
     "data": {
      "text/plain": [
       "array([[25.59373668, 25.59188864, 25.58845833, ..., 22.09159004,\n",
       "        22.01381678, 21.94097443],\n",
       "       [25.55345946, 25.55023023, 25.54542964, ..., 21.99618334,\n",
       "        21.91717106, 21.84319174],\n",
       "       [25.51132435, 25.50672095, 25.5005612 , ..., 21.90166711,\n",
       "        21.8214926 , 21.74644851],\n",
       "       ...,\n",
       "       [ 5.28086901,  5.06217567,  4.88221605, ..., 22.73822318,\n",
       "        22.67466159, 22.62224192],\n",
       "       [ 5.31481347,  5.09524433,  4.91417321, ..., 22.80277583,\n",
       "        22.73590373, 22.68015452],\n",
       "       [ 5.38040687,  5.16047696,  4.9787606 , ..., 22.86723771,\n",
       "        22.7972376 , 22.7383281 ]])"
      ]
     },
     "execution_count": 63,
     "metadata": {},
     "output_type": "execute_result"
    }
   ],
   "source": [
    "period"
   ]
  },
  {
   "cell_type": "code",
   "execution_count": 19,
   "metadata": {},
   "outputs": [
    {
     "data": {
      "text/plain": [
       "(array([[0.001     , 0.00106061, 0.00112121, ..., 0.00687879, 0.00693939,\n",
       "         0.007     ],\n",
       "        [0.001     , 0.00106061, 0.00112121, ..., 0.00687879, 0.00693939,\n",
       "         0.007     ],\n",
       "        [0.001     , 0.00106061, 0.00112121, ..., 0.00687879, 0.00693939,\n",
       "         0.007     ],\n",
       "        ...,\n",
       "        [0.001     , 0.00106061, 0.00112121, ..., 0.00687879, 0.00693939,\n",
       "         0.007     ],\n",
       "        [0.001     , 0.00106061, 0.00112121, ..., 0.00687879, 0.00693939,\n",
       "         0.007     ],\n",
       "        [0.001     , 0.00106061, 0.00112121, ..., 0.00687879, 0.00693939,\n",
       "         0.007     ]]),\n",
       " array([[ 5.        ,  5.        ,  5.        , ...,  5.        ,\n",
       "          5.        ,  5.        ],\n",
       "        [ 5.65656566,  5.65656566,  5.65656566, ...,  5.65656566,\n",
       "          5.65656566,  5.65656566],\n",
       "        [ 6.31313131,  6.31313131,  6.31313131, ...,  6.31313131,\n",
       "          6.31313131,  6.31313131],\n",
       "        ...,\n",
       "        [68.68686869, 68.68686869, 68.68686869, ..., 68.68686869,\n",
       "         68.68686869, 68.68686869],\n",
       "        [69.34343434, 69.34343434, 69.34343434, ..., 69.34343434,\n",
       "         69.34343434, 69.34343434],\n",
       "        [70.        , 70.        , 70.        , ..., 70.        ,\n",
       "         70.        , 70.        ]]))"
      ]
     },
     "execution_count": 19,
     "metadata": {},
     "output_type": "execute_result"
    }
   ],
   "source": [
    "def get_new_samples(new_sample_space,X,Y,n_samples=100):\n",
    "    \"\"\"\n",
    "    MCMC sampling.\n",
    "    Probably not very\n",
    "    Dimensions of new_sample_space,X,Y, must match\n",
    "    \"\"\"\n",
    "    ## Calculating bounding box of new_sample_space.\n",
    "    y_where,x_where = np.where(new_sample_space)\n",
    "    x_min,x_max,y_min,y_max = X_Bt[0,np.min(x_where)],X_Bt[0,np.max(x_where)],Y_cw[np.min(y_where),0],Y_cw[np.max(y_where),0]\n",
    "    new_samples = []\n",
    "    while len(new_samples) < n_samples:\n",
    "        # Sample random point in original sample space \n",
    "        x,y = np.random.uniform(low=(x_min,y_min),high=(x_max,y_max))\n",
    "        row = np.argmin(np.abs(X-x),axis=1)[1]\n",
    "        col = np.argmin(np.abs(Y-y),axis=0)[0]\n",
    "        if new_sample_space[row,col]:\n",
    "            new_samples.append((x,y))\n",
    "        # Check sample point meets plausability criterion\n",
    "    return np.array(new_samples )\n"
   ]
  },
  {
   "cell_type": "code",
   "execution_count": null,
   "metadata": {},
   "outputs": [],
   "source": []
  }
 ],
 "metadata": {
  "kernelspec": {
   "display_name": "history_matching",
   "language": "python",
   "name": "python3"
  },
  "language_info": {
   "codemirror_mode": {
    "name": "ipython",
    "version": 3
   },
   "file_extension": ".py",
   "mimetype": "text/x-python",
   "name": "python",
   "nbconvert_exporter": "python",
   "pygments_lexer": "ipython3",
   "version": "3.10.8"
  },
  "orig_nbformat": 4,
  "vscode": {
   "interpreter": {
    "hash": "6f5b105d2323d8e199dfd4cc5eb10da44e3288581d181c73a9e1bde7b929110e"
   }
  }
 },
 "nbformat": 4,
 "nbformat_minor": 2
}
