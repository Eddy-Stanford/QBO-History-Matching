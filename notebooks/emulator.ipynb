{
 "cells": [
  {
   "cell_type": "code",
   "execution_count": 2,
   "metadata": {},
   "outputs": [
    {
     "name": "stderr",
     "output_type": "stream",
     "text": [
      "Intel(R) Extension for Scikit-learn* enabled (https://github.com/intel/scikit-learn-intelex)\n"
     ]
    }
   ],
   "source": [
    "%matplotlib qt\n",
    "\n",
    "from sklearnex import patch_sklearn\n",
    "patch_sklearn()\n",
    "import pandas as pd\n",
    "\n",
    "df = pd.read_csv(\"../data/qbo_data.csv\",index_col=\"run_id\")\n",
    "df = df.sort_values(\"qbo_period_std\")\n",
    "df = df[:65]"
   ]
  },
  {
   "cell_type": "code",
   "execution_count": 3,
   "metadata": {},
   "outputs": [],
   "source": [
    "import numpy as np\n",
    "X = df[[\"Bt\",\"cw\"]].to_numpy()\n",
    "y_point_error = df[[\"qbo_period_std\",\"qbo_amplitude_std\"]].to_numpy()\n",
    "y = df[[\"qbo_periods\",\"qbo_amplitude_mean\"]].to_numpy()\n",
    "\n",
    "mean_y = np.mean(y,axis=0)\n",
    "std_y = np.std(y,axis=0)\n",
    "y_norm = (y - mean_y)/std_y\n",
    "y_point_error = y_point_error/std_y"
   ]
  },
  {
   "cell_type": "code",
   "execution_count": 4,
   "metadata": {},
   "outputs": [],
   "source": [
    "from sklearn.decomposition import PCA\n",
    "from sklearn.preprocessing import StandardScaler\n",
    "scaler = StandardScaler()\n",
    "X_scaled = scaler.fit_transform(X)\n",
    "pca = PCA()\n",
    "X_pca = pca.fit_transform(X_scaled)"
   ]
  },
  {
   "cell_type": "code",
   "execution_count": 298,
   "metadata": {},
   "outputs": [
    {
     "data": {
      "text/plain": [
       "array([1.11274458, 0.91850542])"
      ]
     },
     "execution_count": 298,
     "metadata": {},
     "output_type": "execute_result"
    }
   ],
   "source": [
    "pca.explained_variance_"
   ]
  },
  {
   "cell_type": "code",
   "execution_count": 5,
   "metadata": {},
   "outputs": [
    {
     "data": {
      "text/plain": [
       "array([[-2.06017912e+00,  1.63901913e-01],\n",
       "       [ 8.50696623e-02,  6.23104274e-01],\n",
       "       [-6.96296657e-02,  9.42022884e-01],\n",
       "       [ 1.98075883e+00,  4.42730015e-01],\n",
       "       [ 6.04820156e-01,  1.47438956e-01],\n",
       "       [-4.02927468e-02,  1.39853805e+00],\n",
       "       [ 5.42206903e-01,  4.12291106e-01],\n",
       "       [ 6.95202955e-01,  9.67800997e-01],\n",
       "       [-1.01686686e+00,  2.44795634e-01],\n",
       "       [ 8.86969592e-01, -4.52532651e-01],\n",
       "       [ 2.13888892e+00,  1.05687030e-01],\n",
       "       [-2.53868171e-01, -6.59825489e-01],\n",
       "       [-3.63271061e-01, -1.11998255e+00],\n",
       "       [ 1.31136390e+00,  5.23158812e-01],\n",
       "       [ 4.01806405e-02, -8.97235559e-01],\n",
       "       [ 2.99215792e-01, -3.60654643e-01],\n",
       "       [ 6.63187788e-01, -8.44762763e-01],\n",
       "       [-4.32568310e-01, -1.57813680e+00],\n",
       "       [ 9.08004762e-01,  8.24475069e-01],\n",
       "       [-3.38742628e-01,  6.57204420e-02],\n",
       "       [ 8.51972710e-01,  1.30904488e+00],\n",
       "       [ 6.47177317e-01, -9.81865693e-01],\n",
       "       [-1.93126901e+00,  6.47271817e-01],\n",
       "       [ 8.64132581e-01, -8.02003096e-01],\n",
       "       [ 3.43154427e-01,  6.48241530e-01],\n",
       "       [ 1.20058362e+00,  8.95614792e-01],\n",
       "       [ 2.02268843e+00, -2.75084304e-01],\n",
       "       [-6.31271580e-01, -1.36032689e-02],\n",
       "       [-7.04775059e-01, -9.20919737e-01],\n",
       "       [ 9.14930947e-01,  1.03439870e+00],\n",
       "       [-2.88013778e-01, -2.49034916e-01],\n",
       "       [-1.27220729e+00, -3.44502315e-02],\n",
       "       [ 9.09091084e-01, -3.12756355e-01],\n",
       "       [-1.62220671e+00,  1.13602425e+00],\n",
       "       [ 1.36166300e+00, -1.02696801e+00],\n",
       "       [-2.01567031e+00,  2.68351221e-01],\n",
       "       [ 5.10567067e-01,  1.89136562e-02],\n",
       "       [-2.84302858e-01,  4.51224590e-01],\n",
       "       [-1.12803553e+00,  4.12625138e-01],\n",
       "       [ 5.76592841e-01,  5.67953101e-01],\n",
       "       [ 6.08424311e-01,  1.28403425e+00],\n",
       "       [-8.34272665e-01, -6.14335157e-01],\n",
       "       [ 8.40696469e-01, -5.67303952e-01],\n",
       "       [ 1.87788894e+00, -3.56596181e-01],\n",
       "       [ 9.34243651e-01, -8.09549062e-01],\n",
       "       [-1.25952823e+00, -6.97413317e-01],\n",
       "       [-1.08002662e-02, -1.12848906e+00],\n",
       "       [ 8.72943497e-01, -1.29607259e+00],\n",
       "       [-4.05033961e-01,  1.25541927e+00],\n",
       "       [-1.13519331e+00, -6.91796644e-02],\n",
       "       [ 1.32724461e-02,  1.56584438e+00],\n",
       "       [-1.05313440e-01, -9.73223928e-01],\n",
       "       [-2.22283048e+00, -2.77902893e-01],\n",
       "       [ 6.25872204e-01, -1.24536859e+00],\n",
       "       [-2.66634996e-01, -8.35802578e-01],\n",
       "       [ 2.39913441e-01, -1.22231175e+00],\n",
       "       [-3.66564841e-02,  1.06353567e+00],\n",
       "       [-1.94259567e-03, -1.79211486e+00],\n",
       "       [-6.98376769e-01, -1.67172783e+00],\n",
       "       [-1.91636614e+00,  7.10343246e-02],\n",
       "       [ 7.49831365e-01,  1.65285479e+00],\n",
       "       [-4.00089665e-01,  2.44068804e+00],\n",
       "       [-7.76668965e-01, -1.36470466e+00],\n",
       "       [-2.18970592e+00, -9.10885357e-02],\n",
       "       [-4.08925682e-01,  1.95826111e+00]])"
      ]
     },
     "execution_count": 5,
     "metadata": {},
     "output_type": "execute_result"
    }
   ],
   "source": [
    "X_pca"
   ]
  },
  {
   "cell_type": "code",
   "execution_count": 53,
   "metadata": {},
   "outputs": [
    {
     "data": {
      "text/plain": [
       "GaussianProcessRegressor(alpha=array([0.        , 0.05614359, 0.05071146, 0.03369427, 0.05793871,\n",
       "       0.15816117, 0.07520947, 0.03703018, 0.10870487, 0.06901974,\n",
       "       0.03257372, 0.0523034 , 0.04739906, 0.04732584, 0.06270552,\n",
       "       0.06617491, 0.04166084, 0.05919156, 0.1746527 , 0.08682533,\n",
       "       0.18972332, 0.02037526, 0.11096865, 0.06729746, 0.0286461 ,\n",
       "       0.04683844, 0.06160858, 0.05715145, 0.03597941, 0.08...\n",
       "       0.02839342, 0.06052202, 0.05353102, 0.31069536, 0.03187466,\n",
       "       0.04551048, 0.12801546, 0.04980584, 0.04364479, 0.08336826,\n",
       "       0.09142026, 0.01448409, 0.06865047, 0.04861572, 0.06369928,\n",
       "       0.03364536, 0.0986437 , 0.05727018, 0.07161853, 0.03180672,\n",
       "       0.17901242, 0.11933718, 0.18275724, 0.07131104, 0.01872045,\n",
       "       0.09918714, 0.28454018, 0.07868217, 0.07902559, 0.10776385,\n",
       "       1.1082482 , 0.71114773, 0.12468573, 0.10788274, 0.07694426]))"
      ]
     },
     "execution_count": 53,
     "metadata": {},
     "output_type": "execute_result"
    }
   ],
   "source": [
    "from sklearn.gaussian_process import GaussianProcessRegressor\n",
    "\n",
    "gpr_period = GaussianProcessRegressor(alpha=(y_point_error[:,0])**2)\n",
    "gpr_amplitude = GaussianProcessRegressor(alpha=(y_point_error[:,1])**2)\n",
    "gpr_period.fit(X_pca,y_norm[:,0])\n",
    "gpr_amplitude.fit(X_pca,y_norm[:,1])\n"
   ]
  },
  {
   "cell_type": "code",
   "execution_count": 54,
   "metadata": {},
   "outputs": [],
   "source": [
    "import numpy as np\n",
    "cw = np.linspace(5,70,1000)\n",
    "Bt = np.ones(len(cw))*0.0043\n",
    "x_samples = np.array([Bt,cw]).T\n",
    "x_samples = scaler.transform(x_samples)\n",
    "x_samples = pca.transform(x_samples)\n"
   ]
  },
  {
   "cell_type": "code",
   "execution_count": 55,
   "metadata": {},
   "outputs": [],
   "source": [
    "samples,samples_std = gpr_period.predict(x_samples,return_std=True)\n",
    "samples = samples*std_y[0] + mean_y[0]"
   ]
  },
  {
   "cell_type": "code",
   "execution_count": 56,
   "metadata": {},
   "outputs": [
    {
     "data": {
      "text/plain": [
       "array([3.5906523 , 8.42465129])"
      ]
     },
     "execution_count": 56,
     "metadata": {},
     "output_type": "execute_result"
    }
   ],
   "source": [
    "std_y"
   ]
  },
  {
   "cell_type": "code",
   "execution_count": 65,
   "metadata": {},
   "outputs": [],
   "source": [
    "OBS_MEAN = 27.475168565819082\n",
    "OBS_STD = 3.9921132486687365\n",
    "\n",
    "OBS_AMP_MEAN = 26.68333333333334\n",
    "OBS_AMP_STD = 2.7605353748060457"
   ]
  },
  {
   "cell_type": "code",
   "execution_count": 59,
   "metadata": {},
   "outputs": [
    {
     "data": {
      "text/plain": [
       "Text(0.5, 0, 'cw')"
      ]
     },
     "execution_count": 59,
     "metadata": {},
     "output_type": "execute_result"
    }
   ],
   "source": [
    "# import matplotlib.pyplot as plt\n",
    "# fig,(ax1,ax2)= plt.subplots(nrows=1,ncols=2,figsize=(10,6))\n",
    "\n",
    "# ax1.plot(cw,samples)\n",
    "# ax1.fill_between(\n",
    "#     cw,\n",
    "#     samples - 1.96*samples_std*std_y[0],\n",
    "#     samples + 1.96*samples_std*std_y[0],\n",
    "#     color=\"tab:blue\",\n",
    "#     alpha=0.5,\n",
    "#     label=r\"95% confidence interval\",\n",
    "# )\n",
    "# ax1.axhline(OBS_MEAN,color='black',label=\"True Observation\")\n",
    "# ax1.fill_between(cw,OBS_MEAN-OBS_STD,OBS_MEAN+OBS_STD,color='black',alpha=0.3)\n",
    "# ax1.set_xlabel(\"Cw tropics\")\n",
    "# ax1.set_ylabel(\"QBO Period (months)\")\n",
    "# ax1.errorbar(X[:,1],y[:,0],yerr=y_point_error[:,0]*std_y[0],fmt='o',label=\"MiMA runs\")\n",
    "# ax1.set_ylim(10,40)\n",
    "# ax1.legend()\n",
    "\n",
    "# ax2.plot(cw,implausability)\n",
    "# ax2.axhline(np.percentile(implausability,20),c='g',label=f\"20th percentile implausability cut off \")\n",
    "# ax2.legend()\n",
    "# ax2.set_ylabel(\"1D Implausability\")\n",
    "# ax2.set_xlabel(\"cw\")"
   ]
  },
  {
   "attachments": {},
   "cell_type": "markdown",
   "metadata": {},
   "source": [
    "### 3D Plots?"
   ]
  },
  {
   "cell_type": "code",
   "execution_count": 62,
   "metadata": {},
   "outputs": [],
   "source": [
    "cw = np.linspace(5,70,100)\n",
    "Bt = np.linspace(0.001,0.007,100)\n",
    "X_Bt,Y_cw = np.meshgrid(Bt,cw)\n",
    "x_samples = np.vstack((X_Bt.ravel(),Y_cw.ravel())).T\n",
    "x_samples = scaler.transform(x_samples)\n",
    "x_samples = pca.transform(x_samples)"
   ]
  },
  {
   "cell_type": "code",
   "execution_count": 63,
   "metadata": {},
   "outputs": [
    {
     "data": {
      "text/plain": [
       "array([[-2.58971787e-03, -3.07633642e+00],\n",
       "       [ 2.54074682e-02, -3.04833924e+00],\n",
       "       [ 5.34046542e-02, -3.02034205e+00],\n",
       "       ...,\n",
       "       [-2.49802406e-01,  2.60233036e+00],\n",
       "       [-2.21805220e-01,  2.63032754e+00],\n",
       "       [-1.93808034e-01,  2.65832473e+00]])"
      ]
     },
     "execution_count": 63,
     "metadata": {},
     "output_type": "execute_result"
    }
   ],
   "source": [
    "x_samples"
   ]
  },
  {
   "cell_type": "code",
   "execution_count": 82,
   "metadata": {},
   "outputs": [],
   "source": [
    "period,period_std = gpr_period.predict(x_samples,return_std=True)\n",
    "period = period*std_y[0] + mean_y[0]\n",
    "period = period.reshape((100,100))\n",
    "period_std = (period_std*std_y[0]).reshape((100,100))\n",
    "\n",
    "\n",
    "amplitude,amplitude_std = gpr_amplitude.predict(x_samples,return_std=True)\n",
    "amplitude = amplitude*std_y[1] + mean_y[1]\n",
    "amplitude = amplitude.reshape((100,100))\n",
    "amplitude_std = (amplitude_std*std_y[1]).reshape((100,100))"
   ]
  },
  {
   "cell_type": "code",
   "execution_count": 97,
   "metadata": {},
   "outputs": [],
   "source": [
    "implausability_period = np.abs(period - OBS_MEAN)/np.sqrt(OBS_STD**2 + period_std**2)\n",
    "implausability_amplitude = np.abs(amplitude - OBS_AMP_MEAN)/np.sqrt(OBS_AMP_STD**2 + amplitude_std**2)\n",
    "implausability = np.sqrt(implausability_amplitude**2 + implausability_period**2)"
   ]
  },
  {
   "cell_type": "code",
   "execution_count": 98,
   "metadata": {},
   "outputs": [],
   "source": [
    "imp_cutoff = implausability < np.percentile(implausability,20)"
   ]
  },
  {
   "cell_type": "code",
   "execution_count": 99,
   "metadata": {},
   "outputs": [
    {
     "data": {
      "text/plain": [
       "Text(0.5, 0, 'Bt')"
      ]
     },
     "execution_count": 99,
     "metadata": {},
     "output_type": "execute_result"
    }
   ],
   "source": [
    "fig,(ax1,ax2,ax3) = plt.subplots(1,3,figsize=(14,6))\n",
    "CS = ax1.contour(X_Bt,Y_cw,amplitude,levels=25)\n",
    "ax1.scatter(X[:,0],X[:,1],)\n",
    "ax1.clabel(CS, CS.levels, inline=True,  fontsize=10)\n",
    "ax1.set_ylabel(\"Cw\")\n",
    "ax1.set_xlabel(\"Bt\")\n",
    "\n",
    "CS2 = ax2.contour(X_Bt,Y_cw,period,levels=25)\n",
    "ax2.scatter(X[:,0],X[:,1],)\n",
    "ax2.clabel(CS2, CS2.levels, inline=True,  fontsize=10)\n",
    "ax2.set_ylabel(\"Cw\")\n",
    "ax2.set_xlabel(\"Bt\")\n",
    "\n",
    "ax3.contour(X_Bt,Y_cw,implausability,levels=25)\n",
    "ax3.contourf(X_Bt,Y_cw,imp_cutoff,alpha=0.3,cmap='RdYlGn')\n",
    "ax3.scatter(X[:,0],X[:,1])\n",
    "ax3.set_ylabel(\"Cw\")\n",
    "ax3.set_xlabel(\"Bt\")"
   ]
  },
  {
   "cell_type": "code",
   "execution_count": 52,
   "metadata": {},
   "outputs": [
    {
     "data": {
      "text/plain": [
       "Text(0.5, 0, 'QBO Period (months)')"
      ]
     },
     "execution_count": 52,
     "metadata": {},
     "output_type": "execute_result"
    }
   ],
   "source": [
    "\n",
    "from mpl_toolkits.mplot3d import axes3d\n",
    "import matplotlib.pyplot as plt\n",
    "ax = plt.figure(figsize=(10,10)).add_subplot(projection='3d')\n",
    "ax.plot_surface(X_Bt,Y_cw,samples,cmap='viridis')\n",
    "ax.set_xlabel(\"Bt\")\n",
    "ax.set_ylabel(\"Cw\")\n",
    "ax.set_zlabel(\"QBO Period (months)\")"
   ]
  },
  {
   "cell_type": "code",
   "execution_count": 22,
   "metadata": {},
   "outputs": [
    {
     "data": {
      "text/plain": [
       "array([[24.51892271, 24.51844809, 24.51797128, ..., 22.61459751,\n",
       "        22.61078872, 22.60702863],\n",
       "       [24.51722301, 24.51674178, 24.51625834, ..., 22.60285384,\n",
       "        22.59903133, 22.59525775],\n",
       "       [24.5155125 , 24.51502464, 24.51453456, ..., 22.59108812,\n",
       "        22.5872519 , 22.58346481],\n",
       "       ...,\n",
       "       [ 7.20922186,  7.1788672 ,  7.14886289, ..., 23.70143329,\n",
       "        23.69731721, 23.69328177],\n",
       "       [ 7.23238639,  7.20207043,  7.17210431, ..., 23.70608979,\n",
       "        23.70194998, 23.69789081],\n",
       "       [ 7.25589211,  7.22561564,  7.19568848, ..., 23.71072927,\n",
       "        23.70656597, 23.70248331]])"
      ]
     },
     "execution_count": 22,
     "metadata": {},
     "output_type": "execute_result"
    }
   ],
   "source": [
    "ax = plt.figure(figsize=(10,10)).add_subplot(projection='3d')\n",
    "ax.plot_surface(X_Bt,Y_cw,samples,cmap='viridis')\n",
    "ax.set_xlabel(\"Bt\")\n",
    "ax.set_ylabel(\"Cw\")\n",
    "ax.set_zlabel(\"QBO Period (months)\")"
   ]
  },
  {
   "cell_type": "code",
   "execution_count": null,
   "metadata": {},
   "outputs": [],
   "source": []
  }
 ],
 "metadata": {
  "kernelspec": {
   "display_name": "history_matching",
   "language": "python",
   "name": "python3"
  },
  "language_info": {
   "codemirror_mode": {
    "name": "ipython",
    "version": 3
   },
   "file_extension": ".py",
   "mimetype": "text/x-python",
   "name": "python",
   "nbconvert_exporter": "python",
   "pygments_lexer": "ipython3",
   "version": "3.10.8"
  },
  "orig_nbformat": 4,
  "vscode": {
   "interpreter": {
    "hash": "6f5b105d2323d8e199dfd4cc5eb10da44e3288581d181c73a9e1bde7b929110e"
   }
  }
 },
 "nbformat": 4,
 "nbformat_minor": 2
}
