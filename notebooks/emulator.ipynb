{
 "cells": [
  {
   "cell_type": "code",
   "execution_count": 125,
   "metadata": {},
   "outputs": [
    {
     "name": "stderr",
     "output_type": "stream",
     "text": [
      "Intel(R) Extension for Scikit-learn* enabled (https://github.com/intel/scikit-learn-intelex)\n"
     ]
    },
    {
     "data": {
      "text/html": [
       "<div>\n",
       "<style scoped>\n",
       "    .dataframe tbody tr th:only-of-type {\n",
       "        vertical-align: middle;\n",
       "    }\n",
       "\n",
       "    .dataframe tbody tr th {\n",
       "        vertical-align: top;\n",
       "    }\n",
       "\n",
       "    .dataframe thead th {\n",
       "        text-align: right;\n",
       "    }\n",
       "</style>\n",
       "<table border=\"1\" class=\"dataframe\">\n",
       "  <thead>\n",
       "    <tr style=\"text-align: right;\">\n",
       "      <th></th>\n",
       "      <th>cw</th>\n",
       "      <th>Bt</th>\n",
       "      <th>qbo_periods</th>\n",
       "      <th>qbo_period_std</th>\n",
       "      <th>qbo_period_fft</th>\n",
       "      <th>qbo_count</th>\n",
       "      <th>qbo_rmse_ampltiude</th>\n",
       "      <th>qbo_amplitude_mean</th>\n",
       "      <th>qbo_amplitude_std</th>\n",
       "    </tr>\n",
       "    <tr>\n",
       "      <th>run_id</th>\n",
       "      <th></th>\n",
       "      <th></th>\n",
       "      <th></th>\n",
       "      <th></th>\n",
       "      <th></th>\n",
       "      <th></th>\n",
       "      <th></th>\n",
       "      <th></th>\n",
       "      <th></th>\n",
       "    </tr>\n",
       "  </thead>\n",
       "  <tbody>\n",
       "    <tr>\n",
       "      <th>78</th>\n",
       "      <td>63.111004</td>\n",
       "      <td>0.002280</td>\n",
       "      <td>11.466667</td>\n",
       "      <td>3.984022e-15</td>\n",
       "      <td>11.466667</td>\n",
       "      <td>19</td>\n",
       "      <td>12.475006</td>\n",
       "      <td>17.731903</td>\n",
       "      <td>0.000000</td>\n",
       "    </tr>\n",
       "    <tr>\n",
       "      <th>1</th>\n",
       "      <td>44.617037</td>\n",
       "      <td>0.005099</td>\n",
       "      <td>24.116463</td>\n",
       "      <td>8.522248e-01</td>\n",
       "      <td>24.000000</td>\n",
       "      <td>9</td>\n",
       "      <td>42.536683</td>\n",
       "      <td>39.017867</td>\n",
       "      <td>1.996191</td>\n",
       "    </tr>\n",
       "    <tr>\n",
       "      <th>64</th>\n",
       "      <td>49.812074</td>\n",
       "      <td>0.005277</td>\n",
       "      <td>23.683767</td>\n",
       "      <td>8.823445e-01</td>\n",
       "      <td>24.000000</td>\n",
       "      <td>9</td>\n",
       "      <td>46.075949</td>\n",
       "      <td>42.475577</td>\n",
       "      <td>1.897165</td>\n",
       "    </tr>\n",
       "    <tr>\n",
       "      <th>60</th>\n",
       "      <td>21.845038</td>\n",
       "      <td>0.006956</td>\n",
       "      <td>19.117979</td>\n",
       "      <td>1.263149e+00</td>\n",
       "      <td>18.461538</td>\n",
       "      <td>12</td>\n",
       "      <td>34.874135</td>\n",
       "      <td>35.291554</td>\n",
       "      <td>1.546429</td>\n",
       "    </tr>\n",
       "    <tr>\n",
       "      <th>15</th>\n",
       "      <td>33.698484</td>\n",
       "      <td>0.005147</td>\n",
       "      <td>24.227832</td>\n",
       "      <td>1.284637e+00</td>\n",
       "      <td>24.000000</td>\n",
       "      <td>9</td>\n",
       "      <td>40.913906</td>\n",
       "      <td>38.525333</td>\n",
       "      <td>2.027852</td>\n",
       "    </tr>\n",
       "    <tr>\n",
       "      <th>...</th>\n",
       "      <td>...</td>\n",
       "      <td>...</td>\n",
       "      <td>...</td>\n",
       "      <td>...</td>\n",
       "      <td>...</td>\n",
       "      <td>...</td>\n",
       "      <td>...</td>\n",
       "      <td>...</td>\n",
       "      <td>...</td>\n",
       "    </tr>\n",
       "    <tr>\n",
       "      <th>35</th>\n",
       "      <td>8.580488</td>\n",
       "      <td>0.005694</td>\n",
       "      <td>18.281435</td>\n",
       "      <td>1.201578e+01</td>\n",
       "      <td>26.666667</td>\n",
       "      <td>12</td>\n",
       "      <td>12.293360</td>\n",
       "      <td>11.247630</td>\n",
       "      <td>4.733746</td>\n",
       "    </tr>\n",
       "    <tr>\n",
       "      <th>52</th>\n",
       "      <td>17.041039</td>\n",
       "      <td>0.001164</td>\n",
       "      <td>28.288639</td>\n",
       "      <td>1.384765e+01</td>\n",
       "      <td>12.000000</td>\n",
       "      <td>8</td>\n",
       "      <td>10.699096</td>\n",
       "      <td>11.159743</td>\n",
       "      <td>3.234233</td>\n",
       "    </tr>\n",
       "    <tr>\n",
       "      <th>44</th>\n",
       "      <td>5.930840</td>\n",
       "      <td>0.004727</td>\n",
       "      <td>27.009087</td>\n",
       "      <td>1.428539e+01</td>\n",
       "      <td>12.000000</td>\n",
       "      <td>8</td>\n",
       "      <td>10.644768</td>\n",
       "      <td>11.106186</td>\n",
       "      <td>1.924817</td>\n",
       "    </tr>\n",
       "    <tr>\n",
       "      <th>0</th>\n",
       "      <td>40.584100</td>\n",
       "      <td>0.001058</td>\n",
       "      <td>28.366935</td>\n",
       "      <td>1.515903e+01</td>\n",
       "      <td>24.000000</td>\n",
       "      <td>8</td>\n",
       "      <td>10.002527</td>\n",
       "      <td>12.217005</td>\n",
       "      <td>2.739893</td>\n",
       "    </tr>\n",
       "    <tr>\n",
       "      <th>3</th>\n",
       "      <td>17.793363</td>\n",
       "      <td>0.001309</td>\n",
       "      <td>26.281778</td>\n",
       "      <td>1.882571e+01</td>\n",
       "      <td>40.000000</td>\n",
       "      <td>8</td>\n",
       "      <td>12.391160</td>\n",
       "      <td>11.674520</td>\n",
       "      <td>3.888217</td>\n",
       "    </tr>\n",
       "  </tbody>\n",
       "</table>\n",
       "<p>100 rows × 9 columns</p>\n",
       "</div>"
      ],
      "text/plain": [
       "               cw        Bt  qbo_periods  qbo_period_std  qbo_period_fft  \\\n",
       "run_id                                                                     \n",
       "78      63.111004  0.002280    11.466667    3.984022e-15       11.466667   \n",
       "1       44.617037  0.005099    24.116463    8.522248e-01       24.000000   \n",
       "64      49.812074  0.005277    23.683767    8.823445e-01       24.000000   \n",
       "60      21.845038  0.006956    19.117979    1.263149e+00       18.461538   \n",
       "15      33.698484  0.005147    24.227832    1.284637e+00       24.000000   \n",
       "...           ...       ...          ...             ...             ...   \n",
       "35       8.580488  0.005694    18.281435    1.201578e+01       26.666667   \n",
       "52      17.041039  0.001164    28.288639    1.384765e+01       12.000000   \n",
       "44       5.930840  0.004727    27.009087    1.428539e+01       12.000000   \n",
       "0       40.584100  0.001058    28.366935    1.515903e+01       24.000000   \n",
       "3       17.793363  0.001309    26.281778    1.882571e+01       40.000000   \n",
       "\n",
       "        qbo_count  qbo_rmse_ampltiude  qbo_amplitude_mean  qbo_amplitude_std  \n",
       "run_id                                                                        \n",
       "78             19           12.475006           17.731903           0.000000  \n",
       "1               9           42.536683           39.017867           1.996191  \n",
       "64              9           46.075949           42.475577           1.897165  \n",
       "60             12           34.874135           35.291554           1.546429  \n",
       "15              9           40.913906           38.525333           2.027852  \n",
       "...           ...                 ...                 ...                ...  \n",
       "35             12           12.293360           11.247630           4.733746  \n",
       "52              8           10.699096           11.159743           3.234233  \n",
       "44              8           10.644768           11.106186           1.924817  \n",
       "0               8           10.002527           12.217005           2.739893  \n",
       "3               8           12.391160           11.674520           3.888217  \n",
       "\n",
       "[100 rows x 9 columns]"
      ]
     },
     "execution_count": 125,
     "metadata": {},
     "output_type": "execute_result"
    }
   ],
   "source": [
    "%matplotlib qt\n",
    "\n",
    "from sklearnex import patch_sklearn\n",
    "patch_sklearn()\n",
    "import pandas as pd\n",
    "import matplotlib.pyplot as plt\n",
    "\n",
    "df = pd.read_csv(\"../data/qbo_data.csv\",index_col=\"run_id\")\n",
    "df = df.sort_values(\"qbo_period_std\")\n",
    "df"
   ]
  },
  {
   "attachments": {},
   "cell_type": "markdown",
   "metadata": {},
   "source": [
    "## Constants"
   ]
  },
  {
   "cell_type": "code",
   "execution_count": 126,
   "metadata": {},
   "outputs": [],
   "source": [
    "OBS_PERIOD_MEAN = 27.915249015787193\n",
    "OBS_PERIOD_STD = 4.538404428603899\n",
    "\n",
    "OBS_AMP_MEAN = 26.587500000000002\n",
    "OBS_AMP_STD =2.953799762291663\n",
    "\n",
    "CURRENT_CW = 35\n",
    "CURRENT_BT = 0.0043"
   ]
  },
  {
   "cell_type": "code",
   "execution_count": 127,
   "metadata": {},
   "outputs": [],
   "source": [
    "import numpy as np\n",
    "X = df[[\"Bt\",\"cw\"]].to_numpy()\n",
    "y_point_error = df[[\"qbo_period_std\",\"qbo_amplitude_std\"]].to_numpy()\n",
    "y = df[[\"qbo_periods\",\"qbo_amplitude_mean\"]].to_numpy()\n",
    "\n",
    "mean_y = np.mean(y,axis=0)\n",
    "std_y = np.std(y,axis=0)\n",
    "y_norm = (y - mean_y)/std_y\n",
    "y_point_error = y_point_error/std_y"
   ]
  },
  {
   "cell_type": "code",
   "execution_count": 158,
   "metadata": {},
   "outputs": [
    {
     "data": {
      "text/plain": [
       "array([[1.02774244e-15, 0.00000000e+00],\n",
       "       [2.19845045e-01, 1.88414334e-01],\n",
       "       [2.27614906e-01, 1.79067564e-01],\n",
       "       [3.25849513e-01, 1.45962694e-01],\n",
       "       [3.31392590e-01, 1.91402801e-01],\n",
       "       [3.51033182e-01, 3.16237812e-01],\n",
       "       [3.83423465e-01, 2.18072117e-01],\n",
       "       [3.85627921e-01, 1.53017733e-01],\n",
       "       [3.92895762e-01, 2.62173246e-01],\n",
       "       [3.93179416e-01, 1.43690465e-01],\n",
       "       [4.17391819e-01, 2.08905819e-01],\n",
       "       [4.19144664e-01, 1.43515072e-01],\n",
       "       [4.82716322e-01, 1.81856506e-01],\n",
       "       [5.29789952e-01, 1.73120596e-01],\n",
       "       [5.43330618e-01, 1.72986820e-01],\n",
       "       [5.44813120e-01, 1.99120860e-01],\n",
       "       [5.49191428e-01, 2.04555209e-01],\n",
       "       [5.62558066e-01, 1.93461153e-01],\n",
       "       [5.75387815e-01, 3.32316199e-01],\n",
       "       [5.99663842e-01, 2.34307981e-01],\n",
       "       [6.01757204e-01, 1.95536479e-01],\n",
       "       [6.02043328e-01, 3.46357204e-01],\n",
       "       [6.06576649e-01, 1.13505111e-01],\n",
       "       [6.08729459e-01, 2.64889063e-01],\n",
       "       [6.13853739e-01, 1.34584976e-01],\n",
       "       [6.30894968e-01, 1.72093735e-01],\n",
       "       [6.39902526e-01, 1.97371515e-01],\n",
       "       [6.42255535e-01, 1.90097973e-01],\n",
       "       [6.46298471e-01, 1.50831090e-01],\n",
       "       [6.72988498e-01, 2.33534670e-01],\n",
       "       [6.77582622e-01, 1.33990111e-01],\n",
       "       [6.88838975e-01, 1.95623295e-01],\n",
       "       [6.93063994e-01, 1.83978308e-01],\n",
       "       [6.96015854e-01, 4.43232145e-01],\n",
       "       [7.10440152e-01, 1.41966751e-01],\n",
       "       [7.20061164e-01, 1.69636604e-01],\n",
       "       [7.21207442e-01, 2.84508390e-01],\n",
       "       [7.23618011e-01, 1.77461437e-01],\n",
       "       [7.31249661e-01, 1.66123107e-01],\n",
       "       [7.40894342e-01, 2.29595955e-01],\n",
       "       [7.56425274e-01, 2.40428022e-01],\n",
       "       [7.63189710e-01, 9.56994582e-02],\n",
       "       [7.67173404e-01, 2.08346226e-01],\n",
       "       [7.86464351e-01, 1.75328379e-01],\n",
       "       [7.89811232e-01, 2.00692497e-01],\n",
       "       [8.20505204e-01, 2.49746000e-01],\n",
       "       [8.44058566e-01, 1.90295338e-01],\n",
       "       [8.74659057e-01, 1.41815370e-01],\n",
       "       [8.88249328e-01, 2.48955912e-01],\n",
       "       [9.12079019e-01, 3.36438316e-01],\n",
       "       [9.49150910e-01, 3.11320199e-01],\n",
       "       [9.92640148e-01, 3.39939136e-01],\n",
       "       [9.95838810e-01, 2.12345100e-01],\n",
       "       [1.01658181e+00, 2.95690337e-01],\n",
       "       [1.01737144e+00, 1.08798268e-01],\n",
       "       [1.04509584e+00, 2.50432997e-01],\n",
       "       [1.05754071e+00, 4.24165820e-01],\n",
       "       [1.07635244e+00, 2.23049892e-01],\n",
       "       [1.11897395e+00, 1.16592006e-01],\n",
       "       [1.12115665e+00, 2.23536141e-01],\n",
       "       [1.17755156e+00, 2.44427389e-01],\n",
       "       [1.17939220e+00, 2.61036004e-01],\n",
       "       [1.21647810e+00, 8.37109719e-01],\n",
       "       [1.22563303e+00, 6.70569476e-01],\n",
       "       [1.35317853e+00, 2.80783926e-01],\n",
       "       [1.41740134e+00, 2.61179960e-01],\n",
       "       [1.43353093e+00, 2.20572816e-01],\n",
       "       [1.45883286e+00, 1.86683834e-01],\n",
       "       [1.47987175e+00, 2.51509513e-01],\n",
       "       [1.48339149e+00, 6.39435186e-01],\n",
       "       [1.49722483e+00, 4.29263404e-01],\n",
       "       [1.50501674e+00, 2.79414468e-01],\n",
       "       [1.60734619e+00, 2.32459389e-01],\n",
       "       [1.71056142e+00, 7.11751091e-01],\n",
       "       [1.73116520e+00, 3.32749362e-01],\n",
       "       [1.81150927e+00, 5.00572953e-01],\n",
       "       [1.90978221e+00, 4.28922694e-02],\n",
       "       [1.93037555e+00, 4.95571373e-01],\n",
       "       [1.93695799e+00, 3.39576376e-01],\n",
       "       [2.00599982e+00, 2.35423867e-01],\n",
       "       [2.11452746e+00, 7.64432231e-01],\n",
       "       [2.13266429e+00, 6.84630723e-01],\n",
       "       [2.24790382e+00, 3.38292669e-01],\n",
       "       [2.26978519e+00, 6.15592187e-01],\n",
       "       [2.29961923e+00, 2.39519256e-01],\n",
       "       [2.30230433e+00, 6.75031835e-01],\n",
       "       [2.30554855e+00, 4.78471488e-01],\n",
       "       [2.43490917e+00, 2.65370175e-01],\n",
       "       [2.56402935e+00, 2.17290179e-01],\n",
       "       [2.63494097e+00, 3.49998978e-01],\n",
       "       [2.66106732e+00, 2.75290124e-01],\n",
       "       [2.69686037e+00, 1.84654335e-01],\n",
       "       [2.76995480e+00, 2.04457093e-01],\n",
       "       [2.79959041e+00, 2.02710649e-01],\n",
       "       [2.83106025e+00, 7.75758035e-01],\n",
       "       [3.09966306e+00, 4.46803850e-01],\n",
       "       [3.57222252e+00, 3.05269415e-01],\n",
       "       [3.68514429e+00, 1.81677574e-01],\n",
       "       [3.91051519e+00, 2.58610176e-01],\n",
       "       [4.85639434e+00, 3.66996961e-01]])"
      ]
     },
     "execution_count": 158,
     "metadata": {},
     "output_type": "execute_result"
    }
   ],
   "source": [
    "y_point_error"
   ]
  },
  {
   "cell_type": "code",
   "execution_count": 128,
   "metadata": {},
   "outputs": [],
   "source": [
    "from sklearn.decomposition import PCA\n",
    "from sklearn.preprocessing import StandardScaler\n",
    "scaler = StandardScaler()\n",
    "X_scaled = scaler.fit_transform(X)\n",
    "\n",
    "\n"
   ]
  },
  {
   "cell_type": "code",
   "execution_count": 157,
   "metadata": {},
   "outputs": [
    {
     "ename": "IndexError",
     "evalue": "too many indices for array: array is 1-dimensional, but 2 were indexed",
     "output_type": "error",
     "traceback": [
      "\u001b[1;31m---------------------------------------------------------------------------\u001b[0m",
      "\u001b[1;31mIndexError\u001b[0m                                Traceback (most recent call last)",
      "Cell \u001b[1;32mIn[157], line 5\u001b[0m\n\u001b[0;32m      3\u001b[0m gpr_period \u001b[39m=\u001b[39m GaussianProcessRegressor(alpha\u001b[39m=\u001b[39m(y_point_error[:,\u001b[39m0\u001b[39m])\u001b[39m*\u001b[39m\u001b[39m*\u001b[39m\u001b[39m2\u001b[39m)\n\u001b[0;32m      4\u001b[0m gpr_amplitude \u001b[39m=\u001b[39m GaussianProcessRegressor(alpha\u001b[39m=\u001b[39m(y_point_error[:,\u001b[39m1\u001b[39m])\u001b[39m*\u001b[39m\u001b[39m*\u001b[39m\u001b[39m2\u001b[39m)\n\u001b[1;32m----> 5\u001b[0m gpr_period\u001b[39m.\u001b[39;49mfit(X_scaled,y_norm[:,\u001b[39m0\u001b[39;49m])\n\u001b[0;32m      6\u001b[0m gpr_amplitude\u001b[39m.\u001b[39mfit(X_scaled,y_norm[:,\u001b[39m1\u001b[39m])\n",
      "File \u001b[1;32mc:\\Users\\Robert\\miniconda3\\envs\\history_matching\\lib\\site-packages\\sklearn\\gaussian_process\\_gpr.py:300\u001b[0m, in \u001b[0;36mGaussianProcessRegressor.fit\u001b[1;34m(self, X, y)\u001b[0m\n\u001b[0;32m    298\u001b[0m     \u001b[39mself\u001b[39m\u001b[39m.\u001b[39mlog_marginal_likelihood_value_ \u001b[39m=\u001b[39m \u001b[39m-\u001b[39mnp\u001b[39m.\u001b[39mmin(lml_values)\n\u001b[0;32m    299\u001b[0m \u001b[39melse\u001b[39;00m:\n\u001b[1;32m--> 300\u001b[0m     \u001b[39mself\u001b[39m\u001b[39m.\u001b[39mlog_marginal_likelihood_value_ \u001b[39m=\u001b[39m \u001b[39mself\u001b[39;49m\u001b[39m.\u001b[39;49mlog_marginal_likelihood(\n\u001b[0;32m    301\u001b[0m         \u001b[39mself\u001b[39;49m\u001b[39m.\u001b[39;49mkernel_\u001b[39m.\u001b[39;49mtheta, clone_kernel\u001b[39m=\u001b[39;49m\u001b[39mFalse\u001b[39;49;00m\n\u001b[0;32m    302\u001b[0m     )\n\u001b[0;32m    304\u001b[0m \u001b[39m# Precompute quantities required for predictions which are independent\u001b[39;00m\n\u001b[0;32m    305\u001b[0m \u001b[39m# of actual query points\u001b[39;00m\n\u001b[0;32m    306\u001b[0m \u001b[39m# Alg. 2.1, page 19, line 2 -> L = cholesky(K + sigma^2 I)\u001b[39;00m\n\u001b[0;32m    307\u001b[0m K \u001b[39m=\u001b[39m \u001b[39mself\u001b[39m\u001b[39m.\u001b[39mkernel_(\u001b[39mself\u001b[39m\u001b[39m.\u001b[39mX_train_)\n",
      "File \u001b[1;32mc:\\Users\\Robert\\miniconda3\\envs\\history_matching\\lib\\site-packages\\sklearn\\gaussian_process\\_gpr.py:541\u001b[0m, in \u001b[0;36mGaussianProcessRegressor.log_marginal_likelihood\u001b[1;34m(self, theta, eval_gradient, clone_kernel)\u001b[0m\n\u001b[0;32m    539\u001b[0m y_train \u001b[39m=\u001b[39m \u001b[39mself\u001b[39m\u001b[39m.\u001b[39my_train_\n\u001b[0;32m    540\u001b[0m \u001b[39mif\u001b[39;00m y_train\u001b[39m.\u001b[39mndim \u001b[39m==\u001b[39m \u001b[39m1\u001b[39m:\n\u001b[1;32m--> 541\u001b[0m     y_train \u001b[39m=\u001b[39m y_train[:, np\u001b[39m.\u001b[39;49mnewaxis]\n\u001b[0;32m    543\u001b[0m \u001b[39m# Alg 2.1, page 19, line 3 -> alpha = L^T \\ (L \\ y)\u001b[39;00m\n\u001b[0;32m    544\u001b[0m alpha \u001b[39m=\u001b[39m cho_solve((L, GPR_CHOLESKY_LOWER), y_train, check_finite\u001b[39m=\u001b[39m\u001b[39mFalse\u001b[39;00m)\n",
      "\u001b[1;31mIndexError\u001b[0m: too many indices for array: array is 1-dimensional, but 2 were indexed"
     ]
    }
   ],
   "source": [
    "from sklearn.gaussian_process import GaussianProcessRegressor\n",
    "\n",
    "gpr_period = GaussianProcessRegressor(alpha=(y_point_error[:,0])**2)\n",
    "gpr_amplitude = GaussianProcessRegressor(alpha=(y_point_error[:,1])**2)\n",
    "gpr_period.fit(X_scaled,y_norm[:,0])\n",
    "gpr_amplitude.fit(X_scaled,y_norm[:,1])\n"
   ]
  },
  {
   "cell_type": "code",
   "execution_count": null,
   "metadata": {},
   "outputs": [],
   "source": [
    "predval,predstd = gpr_period.predict(scaler.transform([[0.0043,35]]),return_std=True)\n",
    "predval = predval*std_y[0] + mean_y[0]\n",
    "predstd = predstd*std_y[0]"
   ]
  },
  {
   "cell_type": "code",
   "execution_count": null,
   "metadata": {},
   "outputs": [
    {
     "data": {
      "text/plain": [
       "(array([25.98154407]), array([0.70357845]))"
      ]
     },
     "execution_count": 29,
     "metadata": {},
     "output_type": "execute_result"
    }
   ],
   "source": [
    "predval,predstd"
   ]
  },
  {
   "attachments": {},
   "cell_type": "markdown",
   "metadata": {},
   "source": [
    "### 3D Plots?"
   ]
  },
  {
   "cell_type": "code",
   "execution_count": null,
   "metadata": {},
   "outputs": [],
   "source": [
    "CW_POINTS = 1000\n",
    "BT_POINTS = 1000\n",
    "cw = np.linspace(5,70,CW_POINTS)\n",
    "Bt = np.linspace(0.001,0.007,BT_POINTS)\n",
    "X_Bt,Y_cw = np.meshgrid(Bt,cw)\n",
    "x_samples = np.vstack((X_Bt.ravel(),Y_cw.ravel())).T\n",
    "x_samples = scaler.transform(x_samples)\n"
   ]
  },
  {
   "cell_type": "code",
   "execution_count": null,
   "metadata": {},
   "outputs": [],
   "source": [
    "period,period_std = gpr_period.predict(x_samples,return_std=True)\n",
    "period = period*std_y[0] + mean_y[0]\n",
    "period = period.reshape((CW_POINTS,BT_POINTS))\n",
    "period_std = (period_std*std_y[0]).reshape((CW_POINTS,BT_POINTS))\n",
    "\n",
    "\n",
    "amplitude,amplitude_std = gpr_amplitude.predict(x_samples,return_std=True)\n",
    "amplitude = amplitude*std_y[1] + mean_y[1]\n",
    "amplitude = amplitude.reshape((CW_POINTS,BT_POINTS))\n",
    "amplitude_std = (amplitude_std*std_y[1]).reshape((CW_POINTS,BT_POINTS))"
   ]
  },
  {
   "cell_type": "code",
   "execution_count": null,
   "metadata": {},
   "outputs": [],
   "source": [
    "implausability_period = np.abs(period - OBS_PERIOD_MEAN)/np.sqrt(OBS_PERIOD_STD**2 + period_std**2)\n",
    "implausability_amplitude = np.abs(amplitude - OBS_AMP_MEAN)/np.sqrt(OBS_AMP_STD**2 + amplitude_std**2)\n",
    "implausability = np.sqrt(implausability_amplitude**2 + implausability_period**2)"
   ]
  },
  {
   "cell_type": "code",
   "execution_count": null,
   "metadata": {},
   "outputs": [],
   "source": [
    "imp_cutoff = implausability < np.percentile(implausability,20)"
   ]
  },
  {
   "cell_type": "code",
   "execution_count": null,
   "metadata": {},
   "outputs": [
    {
     "data": {
      "text/plain": [
       "Text(0.5, 0, 'Bt')"
      ]
     },
     "execution_count": 14,
     "metadata": {},
     "output_type": "execute_result"
    }
   ],
   "source": [
    "fig,(ax1,ax2,ax3) = plt.subplots(1,3,figsize=(14,6))\n",
    "CS = ax1.contour(X_Bt,Y_cw,amplitude,levels=25)\n",
    "ax1.scatter(X[:,0],X[:,1],)\n",
    "ax1.scatter(CURRENT_BT,CURRENT_CW)\n",
    "ax1.clabel(CS, CS.levels, inline=True,  fontsize=10)\n",
    "ax1.set_ylabel(\"Cw\")\n",
    "ax1.set_xlabel(\"Bt\")\n",
    "\n",
    "CS2 = ax2.contour(X_Bt,Y_cw,period,levels=25)\n",
    "ax2.scatter(X[:,0],X[:,1],)\n",
    "ax2.scatter(CURRENT_BT,CURRENT_CW)\n",
    "ax2.clabel(CS2, CS2.levels, inline=True,  fontsize=10)\n",
    "ax2.set_ylabel(\"Cw\")\n",
    "ax2.set_xlabel(\"Bt\")\n",
    "\n",
    "ax3.contour(X_Bt,Y_cw,implausability,levels=25)\n",
    "ax3.contourf(X_Bt,Y_cw,imp_cutoff,alpha=0.3,cmap='RdYlGn',levels=1)\n",
    "ax3.scatter(X[:,0],X[:,1])\n",
    "ax3.scatter(CURRENT_BT,CURRENT_CW)\n",
    "ax3.set_ylabel(\"Cw\")\n",
    "ax3.set_xlabel(\"Bt\")"
   ]
  },
  {
   "cell_type": "code",
   "execution_count": null,
   "metadata": {},
   "outputs": [
    {
     "data": {
      "text/plain": [
       "Text(0.5, 0, 'Implausability')"
      ]
     },
     "execution_count": 15,
     "metadata": {},
     "output_type": "execute_result"
    }
   ],
   "source": [
    "from mpl_toolkits.mplot3d import axes3d\n",
    "ax = plt.figure(figsize=(10,10)).add_subplot(projection='3d')\n",
    "ax.plot_surface(X_Bt,Y_cw,implausability,cmap='viridis')\n",
    "ax.set_xlabel(\"Bt\")\n",
    "ax.set_ylabel(\"Cw\")\n",
    "ax.set_zlabel(\"Implausability\")"
   ]
  },
  {
   "attachments": {},
   "cell_type": "markdown",
   "metadata": {},
   "source": [
    "## Calculate Decision Boundary + Sampling"
   ]
  },
  {
   "cell_type": "code",
   "execution_count": 146,
   "metadata": {},
   "outputs": [],
   "source": [
    "def get_new_samples(new_sample_space,X,Y,n_samples=100):\n",
    "    \"\"\"\n",
    "    MCMC sampling.\n",
    "    Probably not very\n",
    "    Dimensions of new_sample_space,X,Y, must match\n",
    "    \"\"\"\n",
    "    ## Calculating bounding box of new_sample_space.\n",
    "    y_where,x_where = np.where(new_sample_space)\n",
    "    x_min,x_max,y_min,y_max = X[0,np.min(x_where)],X[0,np.max(x_where)],Y[np.min(y_where),0],Y[np.max(y_where),0]\n",
    "    new_samples = []\n",
    "    while len(new_samples) < n_samples:\n",
    "        # Sample random point in original sample space \n",
    "        x,y = np.random.uniform(low=(x_min,y_min),high=(x_max,y_max))\n",
    "        col = np.argmin(np.abs(X-x),axis=1)[1]\n",
    "        row = np.argmin(np.abs(Y-y),axis=0)[0]\n",
    "        if new_sample_space[row,col]:\n",
    "            new_samples.append((x,y))\n",
    "        # Check sample point meets plausability criterion\n",
    "    return np.array(new_samples)\n"
   ]
  },
  {
   "cell_type": "code",
   "execution_count": 147,
   "metadata": {},
   "outputs": [],
   "source": [
    "new_samples = get_new_samples(imp_cutoff,X_Bt,Y_cw)"
   ]
  },
  {
   "attachments": {},
   "cell_type": "markdown",
   "metadata": {},
   "source": [
    "### LHS"
   ]
  },
  {
   "cell_type": "code",
   "execution_count": 155,
   "metadata": {},
   "outputs": [],
   "source": [
    "from pyDOE import lhs\n",
    "\n",
    "def get_new_samples_lhs(new_sample_space,X,Y,n_samples=100,max_iter=1000):\n",
    "    \"\"\"\n",
    "    MCMC sampling.\n",
    "    Probably not very\n",
    "    Dimensions of new_sample_space,X,Y, must match\n",
    "    \"\"\"\n",
    "    ## Calculating bounding box of new_sample_space.\n",
    "    y_where,x_where = np.where(new_sample_space)\n",
    "    x_min,x_max,y_min,y_max = X[0,np.min(x_where)],X[0,np.max(x_where)],Y[np.min(y_where),0],Y[np.max(y_where),0]\n",
    "    \n",
    "    rescale = np.array([[x_max -x_min,0],[0,y_max-y_min],[x_min,y_min]])\n",
    "    for i in range(1,max_iter):\n",
    "        # Sample random point in original sample space \n",
    "        samples = lhs(2,samples=n_samples*i*5,criterion='m')\n",
    "        samples = np.column_stack((samples,np.ones(n_samples*i*5))) @ rescale\n",
    "        print(samples[:,1].min())\n",
    "        rows,cols = (np.argmin(np.abs(Y[:,0,None] - samples[:,1][None,:]),axis=0),\n",
    "                                  np.argmin(np.abs(X[0,:,None] - samples[:,0][None,:]),axis=0))\n",
    "        valid = new_sample_space[cols,rows]\n",
    "        if np.sum(valid) >= n_samples:\n",
    "            ys,xs = Y[cols[valid],0],X[0,rows[valid]]\n",
    "            return np.column_stack((xs,ys))\n",
    "    raise RuntimeError(f\"Unable to draw {n_samples} samples in {max_iter} iterations from the sample space\")\n"
   ]
  },
  {
   "cell_type": "code",
   "execution_count": 156,
   "metadata": {},
   "outputs": [
    {
     "name": "stdout",
     "output_type": "stream",
     "text": [
      "13.165514234716062\n"
     ]
    }
   ],
   "source": [
    "lhs_samples = get_new_samples_lhs(imp_cutoff,X_Bt,Y_cw)"
   ]
  },
  {
   "cell_type": "code",
   "execution_count": 154,
   "metadata": {},
   "outputs": [
    {
     "data": {
      "text/plain": [
       "<matplotlib.legend.Legend at 0x277286af910>"
      ]
     },
     "execution_count": 154,
     "metadata": {},
     "output_type": "execute_result"
    }
   ],
   "source": [
    "fig,(ax1) = plt.subplots(figsize=(8,8))\n",
    "\n",
    "\n",
    "ax1.contour(X_Bt,Y_cw,implausability,levels=25)\n",
    "ax1.contourf(X_Bt,Y_cw,imp_cutoff,alpha=0.3,cmap='RdYlGn',levels=1)\n",
    "#ax1.scatter(CURRENT_BT,CURRENT_CW)\n",
    "ax1.set_ylabel(\"Cw\")\n",
    "ax1.set_xlabel(\"Bt\")\n",
    "ax1.scatter(new_samples[:,0],new_samples[:,1],c='r',label=\"MCMC\")\n",
    "ax1.scatter(lhs_samples[:,0],lhs_samples[:,1],c='g',label=\"Latin Hypercube\")\n",
    "ax1.legend()"
   ]
  },
  {
   "cell_type": "code",
   "execution_count": null,
   "metadata": {},
   "outputs": [],
   "source": []
  }
 ],
 "metadata": {
  "kernelspec": {
   "display_name": "history_matching",
   "language": "python",
   "name": "python3"
  },
  "language_info": {
   "codemirror_mode": {
    "name": "ipython",
    "version": 3
   },
   "file_extension": ".py",
   "mimetype": "text/x-python",
   "name": "python",
   "nbconvert_exporter": "python",
   "pygments_lexer": "ipython3",
   "version": "3.10.8"
  },
  "orig_nbformat": 4,
  "vscode": {
   "interpreter": {
    "hash": "6f5b105d2323d8e199dfd4cc5eb10da44e3288581d181c73a9e1bde7b929110e"
   }
  }
 },
 "nbformat": 4,
 "nbformat_minor": 2
}
