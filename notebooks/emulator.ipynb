{
 "cells": [
  {
   "cell_type": "code",
   "execution_count": 121,
   "metadata": {},
   "outputs": [
    {
     "name": "stderr",
     "output_type": "stream",
     "text": [
      "Intel(R) Extension for Scikit-learn* enabled (https://github.com/intel/scikit-learn-intelex)\n"
     ]
    }
   ],
   "source": [
    "%matplotlib qt\n",
    "\n",
    "from sklearnex import patch_sklearn\n",
    "patch_sklearn()\n",
    "import pandas as pd\n",
    "\n",
    "df = pd.read_csv(\"../data/qbo_data.csv\",index_col=\"run_id\")\n",
    "df = df.sort_values(\"qbo_period_std\")\n"
   ]
  },
  {
   "cell_type": "code",
   "execution_count": 122,
   "metadata": {},
   "outputs": [],
   "source": [
    "import numpy as np\n",
    "X = df[[\"Bt\",\"cw\"]].to_numpy()\n",
    "y_point_error = df[[\"qbo_period_std\",\"qbo_amplitude_std\"]].to_numpy()\n",
    "y = df[[\"qbo_periods\",\"qbo_amplitude_mean\"]].to_numpy()\n",
    "\n",
    "mean_y = np.mean(y,axis=0)\n",
    "std_y = np.std(y,axis=0)\n",
    "y_norm = (y - mean_y)/std_y\n",
    "y_point_error = y_point_error/std_y"
   ]
  },
  {
   "cell_type": "code",
   "execution_count": 123,
   "metadata": {},
   "outputs": [],
   "source": [
    "from sklearn.decomposition import PCA\n",
    "from sklearn.preprocessing import StandardScaler\n",
    "scaler = StandardScaler()\n",
    "X_scaled = scaler.fit_transform(X)\n",
    "pca = PCA()\n",
    "X_pca = pca.fit_transform(X_scaled)"
   ]
  },
  {
   "cell_type": "code",
   "execution_count": 125,
   "metadata": {},
   "outputs": [
    {
     "data": {
      "text/plain": [
       "array([[-1.66780167,  0.26229464],\n",
       "       [ 0.18092344,  0.71834059],\n",
       "       [ 0.05798028,  0.9866072 ],\n",
       "       [ 1.79731204,  0.61989489],\n",
       "       [ 0.61153785,  0.32673871],\n",
       "       [ 0.09652892,  1.37800629],\n",
       "       [ 0.56577836,  0.55146657],\n",
       "       [ 0.71303057,  1.03119636],\n",
       "       [-0.77289659,  0.36223925],\n",
       "       [ 0.83522905, -0.17820458],\n",
       "       [ 1.92265605,  0.33622453],\n",
       "       [-0.14683059, -0.38915346],\n",
       "       [-0.2539805 , -0.78602732],\n",
       "       [ 1.22703528,  0.66897467],\n",
       "       [ 0.0977235 , -0.58358592],\n",
       "       [ 0.33513112, -0.11692471],\n",
       "       [ 0.63223306, -0.52033936],\n",
       "       [-0.32676226, -1.18000607],\n",
       "       [ 0.89085266,  0.91485593],\n",
       "       [-0.19805892,  0.22902775],\n",
       "       [ 0.85719744,  1.32773939],\n",
       "       [ 0.61449668, -0.63809845],\n",
       "       [-1.54327993,  0.67960117],\n",
       "       [ 0.8053951 , -0.47783868],\n",
       "       [ 0.40244769,  0.74744954],\n",
       "       [ 1.14324106,  0.98433498],\n",
       "       [ 1.81203021,  0.00706241],\n",
       "       [-0.45064579,  0.15254903],\n",
       "       [-0.54026099, -0.62579808],\n",
       "       [ 0.90296347,  1.0946432 ],\n",
       "       [-0.16393663, -0.03874095],\n",
       "       [-0.99956078,  0.1158291 ],\n",
       "       [ 0.85827199, -0.05797844],\n",
       "       [-1.26448496,  1.10682071],\n",
       "       [ 1.22438813, -0.65562885],\n",
       "       [-1.62664802,  0.3529593 ],\n",
       "       [ 0.52712008,  0.21401199],\n",
       "       [-0.14012801,  0.56041879],\n",
       "       [-0.86305264,  0.50253649],\n",
       "       [ 0.59978124,  0.68564383],\n",
       "       [ 0.64811234,  1.2991671 ],\n",
       "       [-0.64200829, -0.36734025],\n",
       "       [ 0.79226194, -0.27775139],\n",
       "       [ 1.68575686, -0.06693519],\n",
       "       [ 0.8651506 , -0.48222811],\n",
       "       [-1.0082493 , -0.45094175],\n",
       "       [ 0.04729673, -0.78291837],\n",
       "       [ 0.79837417, -0.90024026],\n",
       "       [-0.21971311,  1.24482502],\n",
       "       [-0.8833729 ,  0.09015644],\n",
       "       [ 0.14728218,  1.52271005],\n",
       "       [-0.02898129, -0.65287879],\n",
       "       [-1.81996323, -0.12044847],\n",
       "       [ 0.58850637, -0.86414483],\n",
       "       [-0.1629376 , -0.54007262],\n",
       "       [ 0.25900996, -0.85579319],\n",
       "       [ 0.08976835,  1.09152924],\n",
       "       [ 0.0353196 , -1.35036875],\n",
       "       [-0.55691098, -1.26790269],\n",
       "       [-1.54751056,  0.18708691],\n",
       "       [ 0.77994948,  1.61884843],\n",
       "       [-0.18055795,  2.25893155],\n",
       "       [-0.6148407 , -1.00756083],\n",
       "       [-1.78612146,  0.0403415 ],\n",
       "       [-0.20233222,  1.84596984],\n",
       "       [ 1.76695568, -0.31996329],\n",
       "       [-1.57202494, -0.7969734 ],\n",
       "       [-0.37607972,  1.24669203],\n",
       "       [-1.94380365, -0.34826875],\n",
       "       [-0.02389694,  2.2381178 ],\n",
       "       [ 2.02730257,  0.00320891],\n",
       "       [-0.43050408,  1.70171387],\n",
       "       [ 2.13120504,  0.19453444],\n",
       "       [-0.5501416 ,  0.71879534],\n",
       "       [-2.16221579,  0.154723  ],\n",
       "       [-0.37356408, -1.32273057],\n",
       "       [ 0.21161126, -2.01690323],\n",
       "       [-1.62671874, -0.41431591],\n",
       "       [-1.63402925, -0.57678107],\n",
       "       [-0.99720131, -1.13040925],\n",
       "       [-0.65012262, -1.42969127],\n",
       "       [-0.30632062,  1.86651731],\n",
       "       [-0.86879116,  0.92981395],\n",
       "       [-0.11576105, -1.76604004],\n",
       "       [-1.03799321,  0.47272629],\n",
       "       [-1.20042757, -0.4001976 ],\n",
       "       [-1.62725354,  0.44518199],\n",
       "       [ 1.86998614, -0.53476762],\n",
       "       [-1.52802397, -0.00393675],\n",
       "       [ 0.50607194, -1.45517525],\n",
       "       [ 1.40740997, -0.71187667],\n",
       "       [ 1.29702257, -1.02097054],\n",
       "       [ 1.37348218, -0.92045056],\n",
       "       [ 0.38266048, -1.46633276],\n",
       "       [-0.98483743,  0.92293247],\n",
       "       [ 1.78116197, -0.39513566],\n",
       "       [-0.38939738, -1.92857732],\n",
       "       [ 1.48535738, -0.8904707 ],\n",
       "       [-1.31907861, -1.08535983],\n",
       "       [-0.35828589, -1.84081241]])"
      ]
     },
     "execution_count": 125,
     "metadata": {},
     "output_type": "execute_result"
    }
   ],
   "source": [
    "X_pca"
   ]
  },
  {
   "cell_type": "code",
   "execution_count": 126,
   "metadata": {},
   "outputs": [
    {
     "data": {
      "text/plain": [
       "GaussianProcessRegressor(alpha=array([0.        , 0.03547776, 0.03204514, 0.02129178, 0.03661212,\n",
       "       0.09994381, 0.04752571, 0.02339978, 0.06869182, 0.04361435,\n",
       "       0.02058369, 0.0330511 , 0.029952  , 0.02990572, 0.03962432,\n",
       "       0.04181666, 0.02632595, 0.03740381, 0.11036499, 0.05486589,\n",
       "       0.11988828, 0.01287535, 0.07012233, 0.04252602, 0.01810179,\n",
       "       0.02959773, 0.03893115, 0.03611464, 0.02273579, 0.05...\n",
       "       0.03482906, 0.06321747, 0.124354  , 0.07802362, 0.42698006,\n",
       "       0.05888453, 0.17278043, 0.05400357, 0.50627278, 0.11065289,\n",
       "       0.19951574, 0.0018386 , 0.24543738, 0.11524   , 0.13536967,\n",
       "       0.05538973, 0.58399116, 0.46842607, 0.11437035, 0.37871673,\n",
       "       0.05733359, 0.45538299, 0.07037729, 0.04718549, 0.07573725,\n",
       "       0.08398727, 0.0340759 , 0.04177656, 0.04106591, 0.60142414,\n",
       "       0.14445963, 0.09313113, 0.0329861 , 0.06683739, 0.13460253]))"
      ]
     },
     "execution_count": 126,
     "metadata": {},
     "output_type": "execute_result"
    }
   ],
   "source": [
    "from sklearn.gaussian_process import GaussianProcessRegressor\n",
    "\n",
    "gpr_period = GaussianProcessRegressor(alpha=(y_point_error[:,0])**2)\n",
    "gpr_amplitude = GaussianProcessRegressor(alpha=(y_point_error[:,1])**2)\n",
    "gpr_period.fit(X_pca,y_norm[:,0])\n",
    "gpr_amplitude.fit(X_pca,y_norm[:,1])\n"
   ]
  },
  {
   "cell_type": "code",
   "execution_count": 127,
   "metadata": {},
   "outputs": [],
   "source": [
    "import numpy as np\n",
    "cw = np.linspace(5,70,1000)\n",
    "Bt = np.ones(len(cw))*0.0043\n",
    "x_samples = np.array([Bt,cw]).T\n",
    "x_samples = scaler.transform(x_samples)\n",
    "x_samples = pca.transform(x_samples)\n"
   ]
  },
  {
   "cell_type": "code",
   "execution_count": 128,
   "metadata": {},
   "outputs": [],
   "source": [
    "samples,samples_std = gpr_period.predict(x_samples,return_std=True)\n",
    "samples = samples*std_y[0] + mean_y[0]"
   ]
  },
  {
   "cell_type": "code",
   "execution_count": 129,
   "metadata": {},
   "outputs": [
    {
     "data": {
      "text/plain": [
       "array([ 3.86400325, 10.59800016])"
      ]
     },
     "execution_count": 129,
     "metadata": {},
     "output_type": "execute_result"
    }
   ],
   "source": [
    "std_y"
   ]
  },
  {
   "cell_type": "code",
   "execution_count": 130,
   "metadata": {},
   "outputs": [],
   "source": [
    "OBS_MEAN = 27.475168565819082\n",
    "OBS_STD = 3.9921132486687365\n",
    "\n",
    "OBS_AMP_MEAN = 26.68333333333334\n",
    "OBS_AMP_STD = 2.7605353748060457"
   ]
  },
  {
   "cell_type": "code",
   "execution_count": 131,
   "metadata": {},
   "outputs": [],
   "source": [
    "# import matplotlib.pyplot as plt\n",
    "# fig,(ax1,ax2)= plt.subplots(nrows=1,ncols=2,figsize=(10,6))\n",
    "\n",
    "# ax1.plot(cw,samples)\n",
    "# ax1.fill_between(\n",
    "#     cw,\n",
    "#     samples - 1.96*samples_std*std_y[0],\n",
    "#     samples + 1.96*samples_std*std_y[0],\n",
    "#     color=\"tab:blue\",\n",
    "#     alpha=0.5,\n",
    "#     label=r\"95% confidence interval\",\n",
    "# )\n",
    "# ax1.axhline(OBS_MEAN,color='black',label=\"True Observation\")\n",
    "# ax1.fill_between(cw,OBS_MEAN-OBS_STD,OBS_MEAN+OBS_STD,color='black',alpha=0.3)\n",
    "# ax1.set_xlabel(\"Cw tropics\")\n",
    "# ax1.set_ylabel(\"QBO Period (months)\")\n",
    "# ax1.errorbar(X[:,1],y[:,0],yerr=y_point_error[:,0]*std_y[0],fmt='o',label=\"MiMA runs\")\n",
    "# ax1.set_ylim(10,40)\n",
    "# ax1.legend()\n",
    "\n",
    "# ax2.plot(cw,implausability)\n",
    "# ax2.axhline(np.percentile(implausability,20),c='g',label=f\"20th percentile implausability cut off \")\n",
    "# ax2.legend()\n",
    "# ax2.set_ylabel(\"1D Implausability\")\n",
    "# ax2.set_xlabel(\"cw\")"
   ]
  },
  {
   "attachments": {},
   "cell_type": "markdown",
   "metadata": {},
   "source": [
    "### 3D Plots?"
   ]
  },
  {
   "cell_type": "code",
   "execution_count": 132,
   "metadata": {},
   "outputs": [],
   "source": [
    "cw = np.linspace(5,70,100)\n",
    "Bt = np.linspace(0.001,0.007,100)\n",
    "X_Bt,Y_cw = np.meshgrid(Bt,cw)\n",
    "x_samples = np.vstack((X_Bt.ravel(),Y_cw.ravel())).T\n",
    "x_samples = scaler.transform(x_samples)\n",
    "x_samples = pca.transform(x_samples)"
   ]
  },
  {
   "cell_type": "code",
   "execution_count": 133,
   "metadata": {},
   "outputs": [
    {
     "data": {
      "text/plain": [
       "array([[-3.07522596e-03, -2.44899973e+00],\n",
       "       [ 2.17004755e-02, -2.42422403e+00],\n",
       "       [ 4.64761770e-02, -2.39944832e+00],\n",
       "       ...,\n",
       "       [-4.72288425e-02,  2.40163998e+00],\n",
       "       [-2.24531410e-02,  2.42641568e+00],\n",
       "       [ 2.32256049e-03,  2.45119138e+00]])"
      ]
     },
     "execution_count": 133,
     "metadata": {},
     "output_type": "execute_result"
    }
   ],
   "source": [
    "x_samples"
   ]
  },
  {
   "cell_type": "code",
   "execution_count": 134,
   "metadata": {},
   "outputs": [],
   "source": [
    "period,period_std = gpr_period.predict(x_samples,return_std=True)\n",
    "period = period*std_y[0] + mean_y[0]\n",
    "period = period.reshape((100,100))\n",
    "period_std = (period_std*std_y[0]).reshape((100,100))\n",
    "\n",
    "\n",
    "amplitude,amplitude_std = gpr_amplitude.predict(x_samples,return_std=True)\n",
    "amplitude = amplitude*std_y[1] + mean_y[1]\n",
    "amplitude = amplitude.reshape((100,100))\n",
    "amplitude_std = (amplitude_std*std_y[1]).reshape((100,100))"
   ]
  },
  {
   "cell_type": "code",
   "execution_count": 135,
   "metadata": {},
   "outputs": [],
   "source": [
    "implausability_period = np.abs(period - OBS_MEAN)/np.sqrt(OBS_STD**2 + period_std**2)\n",
    "implausability_amplitude = np.abs(amplitude - OBS_AMP_MEAN)/np.sqrt(OBS_AMP_STD**2 + amplitude_std**2)\n",
    "implausability = np.sqrt(implausability_amplitude**2 + implausability_period**2)"
   ]
  },
  {
   "cell_type": "code",
   "execution_count": 136,
   "metadata": {},
   "outputs": [],
   "source": [
    "imp_cutoff = implausability < np.percentile(implausability,10)"
   ]
  },
  {
   "cell_type": "code",
   "execution_count": 142,
   "metadata": {},
   "outputs": [
    {
     "data": {
      "text/plain": [
       "Text(0.5, 0, 'Bt')"
      ]
     },
     "execution_count": 142,
     "metadata": {},
     "output_type": "execute_result"
    }
   ],
   "source": [
    "fig,(ax1,ax2,ax3) = plt.subplots(1,3,figsize=(14,6))\n",
    "CS = ax1.contour(X_Bt,Y_cw,amplitude,levels=25)\n",
    "ax1.scatter(X[:,0],X[:,1],)\n",
    "ax1.clabel(CS, CS.levels, inline=True,  fontsize=10)\n",
    "ax1.set_ylabel(\"Cw\")\n",
    "ax1.set_xlabel(\"Bt\")\n",
    "\n",
    "CS2 = ax2.contour(X_Bt,Y_cw,period,levels=25)\n",
    "ax2.scatter(X[:,0],X[:,1],)\n",
    "ax2.clabel(CS2, CS2.levels, inline=True,  fontsize=10)\n",
    "ax2.set_ylabel(\"Cw\")\n",
    "ax2.set_xlabel(\"Bt\")\n",
    "\n",
    "ax3.contour(X_Bt,Y_cw,implausability,levels=25)\n",
    "ax3.contourf(X_Bt,Y_cw,imp_cutoff,alpha=0.3,cmap='RdYlGn')\n",
    "ax3.scatter(X[:,0],X[:,1])\n",
    "ax3.set_ylabel(\"Cw\")\n",
    "ax3.set_xlabel(\"Bt\")"
   ]
  },
  {
   "cell_type": "code",
   "execution_count": 138,
   "metadata": {},
   "outputs": [
    {
     "ename": "ValueError",
     "evalue": "Argument Z must be 2-dimensional.",
     "output_type": "error",
     "traceback": [
      "\u001b[1;31m---------------------------------------------------------------------------\u001b[0m",
      "\u001b[1;31mValueError\u001b[0m                                Traceback (most recent call last)",
      "Cell \u001b[1;32mIn[138], line 4\u001b[0m\n\u001b[0;32m      2\u001b[0m \u001b[39mimport\u001b[39;00m \u001b[39mmatplotlib\u001b[39;00m\u001b[39m.\u001b[39;00m\u001b[39mpyplot\u001b[39;00m \u001b[39mas\u001b[39;00m \u001b[39mplt\u001b[39;00m\n\u001b[0;32m      3\u001b[0m ax \u001b[39m=\u001b[39m plt\u001b[39m.\u001b[39mfigure(figsize\u001b[39m=\u001b[39m(\u001b[39m10\u001b[39m,\u001b[39m10\u001b[39m))\u001b[39m.\u001b[39madd_subplot(projection\u001b[39m=\u001b[39m\u001b[39m'\u001b[39m\u001b[39m3d\u001b[39m\u001b[39m'\u001b[39m)\n\u001b[1;32m----> 4\u001b[0m ax\u001b[39m.\u001b[39;49mplot_surface(X_Bt,Y_cw,samples,cmap\u001b[39m=\u001b[39;49m\u001b[39m'\u001b[39;49m\u001b[39mviridis\u001b[39;49m\u001b[39m'\u001b[39;49m)\n\u001b[0;32m      5\u001b[0m ax\u001b[39m.\u001b[39mset_xlabel(\u001b[39m\"\u001b[39m\u001b[39mBt\u001b[39m\u001b[39m\"\u001b[39m)\n\u001b[0;32m      6\u001b[0m ax\u001b[39m.\u001b[39mset_ylabel(\u001b[39m\"\u001b[39m\u001b[39mCw\u001b[39m\u001b[39m\"\u001b[39m)\n",
      "File \u001b[1;32mc:\\Users\\Robert\\miniconda3\\envs\\history_matching\\lib\\site-packages\\mpl_toolkits\\mplot3d\\axes3d.py:1381\u001b[0m, in \u001b[0;36mAxes3D.plot_surface\u001b[1;34m(self, X, Y, Z, norm, vmin, vmax, lightsource, **kwargs)\u001b[0m\n\u001b[0;32m   1378\u001b[0m had_data \u001b[39m=\u001b[39m \u001b[39mself\u001b[39m\u001b[39m.\u001b[39mhas_data()\n\u001b[0;32m   1380\u001b[0m \u001b[39mif\u001b[39;00m Z\u001b[39m.\u001b[39mndim \u001b[39m!=\u001b[39m \u001b[39m2\u001b[39m:\n\u001b[1;32m-> 1381\u001b[0m     \u001b[39mraise\u001b[39;00m \u001b[39mValueError\u001b[39;00m(\u001b[39m\"\u001b[39m\u001b[39mArgument Z must be 2-dimensional.\u001b[39m\u001b[39m\"\u001b[39m)\n\u001b[0;32m   1383\u001b[0m Z \u001b[39m=\u001b[39m cbook\u001b[39m.\u001b[39m_to_unmasked_float_array(Z)\n\u001b[0;32m   1384\u001b[0m X, Y, Z \u001b[39m=\u001b[39m np\u001b[39m.\u001b[39mbroadcast_arrays(X, Y, Z)\n",
      "\u001b[1;31mValueError\u001b[0m: Argument Z must be 2-dimensional."
     ]
    }
   ],
   "source": [
    "\n",
    "from mpl_toolkits.mplot3d import axes3d\n",
    "import matplotlib.pyplot as plt\n",
    "ax = plt.figure(figsize=(10,10)).add_subplot(projection='3d')\n",
    "ax.plot_surface(X_Bt,Y_cw,samples,cmap='viridis')\n",
    "ax.set_xlabel(\"Bt\")\n",
    "ax.set_ylabel(\"Cw\")\n",
    "ax.set_zlabel(\"QBO Period (months)\")"
   ]
  },
  {
   "cell_type": "code",
   "execution_count": 141,
   "metadata": {},
   "outputs": [
    {
     "data": {
      "text/plain": [
       "Text(0.5, 0, 'Implausability')"
      ]
     },
     "execution_count": 141,
     "metadata": {},
     "output_type": "execute_result"
    }
   ],
   "source": [
    "ax = plt.figure(figsize=(10,10)).add_subplot(projection='3d')\n",
    "ax.plot_surface(X_Bt,Y_cw,implausability,cmap='viridis')\n",
    "ax.set_xlabel(\"Bt\")\n",
    "ax.set_ylabel(\"Cw\")\n",
    "ax.set_zlabel(\"Implausability\")"
   ]
  },
  {
   "cell_type": "code",
   "execution_count": null,
   "metadata": {},
   "outputs": [],
   "source": []
  }
 ],
 "metadata": {
  "kernelspec": {
   "display_name": "history_matching",
   "language": "python",
   "name": "python3"
  },
  "language_info": {
   "codemirror_mode": {
    "name": "ipython",
    "version": 3
   },
   "file_extension": ".py",
   "mimetype": "text/x-python",
   "name": "python",
   "nbconvert_exporter": "python",
   "pygments_lexer": "ipython3",
   "version": "3.10.8"
  },
  "orig_nbformat": 4,
  "vscode": {
   "interpreter": {
    "hash": "6f5b105d2323d8e199dfd4cc5eb10da44e3288581d181c73a9e1bde7b929110e"
   }
  }
 },
 "nbformat": 4,
 "nbformat_minor": 2
}
