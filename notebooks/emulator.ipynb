{
 "cells": [
  {
   "cell_type": "code",
   "execution_count": 20,
   "metadata": {},
   "outputs": [
    {
     "name": "stderr",
     "output_type": "stream",
     "text": [
      "Intel(R) Extension for Scikit-learn* enabled (https://github.com/intel/scikit-learn-intelex)\n"
     ]
    },
    {
     "data": {
      "text/html": [
       "<div>\n",
       "<style scoped>\n",
       "    .dataframe tbody tr th:only-of-type {\n",
       "        vertical-align: middle;\n",
       "    }\n",
       "\n",
       "    .dataframe tbody tr th {\n",
       "        vertical-align: top;\n",
       "    }\n",
       "\n",
       "    .dataframe thead th {\n",
       "        text-align: right;\n",
       "    }\n",
       "</style>\n",
       "<table border=\"1\" class=\"dataframe\">\n",
       "  <thead>\n",
       "    <tr style=\"text-align: right;\">\n",
       "      <th></th>\n",
       "      <th>cw</th>\n",
       "      <th>Bt</th>\n",
       "      <th>qbo_periods</th>\n",
       "      <th>qbo_period_std</th>\n",
       "      <th>qbo_period_fft</th>\n",
       "      <th>qbo_count</th>\n",
       "      <th>qbo_rmse_ampltiude</th>\n",
       "      <th>qbo_amplitude_mean</th>\n",
       "      <th>qbo_amplitude_std</th>\n",
       "    </tr>\n",
       "    <tr>\n",
       "      <th>run_id</th>\n",
       "      <th></th>\n",
       "      <th></th>\n",
       "      <th></th>\n",
       "      <th></th>\n",
       "      <th></th>\n",
       "      <th></th>\n",
       "      <th></th>\n",
       "      <th></th>\n",
       "      <th></th>\n",
       "    </tr>\n",
       "  </thead>\n",
       "  <tbody>\n",
       "    <tr>\n",
       "      <th>78</th>\n",
       "      <td>63.111004</td>\n",
       "      <td>0.002280</td>\n",
       "      <td>11.466667</td>\n",
       "      <td>3.984022e-15</td>\n",
       "      <td>11.466667</td>\n",
       "      <td>19</td>\n",
       "      <td>12.475006</td>\n",
       "      <td>17.731903</td>\n",
       "      <td>0.000000</td>\n",
       "    </tr>\n",
       "    <tr>\n",
       "      <th>1</th>\n",
       "      <td>44.617037</td>\n",
       "      <td>0.005099</td>\n",
       "      <td>24.116463</td>\n",
       "      <td>8.522248e-01</td>\n",
       "      <td>24.000000</td>\n",
       "      <td>9</td>\n",
       "      <td>42.536683</td>\n",
       "      <td>39.017867</td>\n",
       "      <td>1.996191</td>\n",
       "    </tr>\n",
       "    <tr>\n",
       "      <th>64</th>\n",
       "      <td>49.812074</td>\n",
       "      <td>0.005277</td>\n",
       "      <td>23.683767</td>\n",
       "      <td>8.823445e-01</td>\n",
       "      <td>24.000000</td>\n",
       "      <td>9</td>\n",
       "      <td>46.075949</td>\n",
       "      <td>42.475577</td>\n",
       "      <td>1.897165</td>\n",
       "    </tr>\n",
       "    <tr>\n",
       "      <th>60</th>\n",
       "      <td>21.845038</td>\n",
       "      <td>0.006956</td>\n",
       "      <td>19.117979</td>\n",
       "      <td>1.263149e+00</td>\n",
       "      <td>18.461538</td>\n",
       "      <td>12</td>\n",
       "      <td>34.874135</td>\n",
       "      <td>35.291554</td>\n",
       "      <td>1.546429</td>\n",
       "    </tr>\n",
       "    <tr>\n",
       "      <th>15</th>\n",
       "      <td>33.698484</td>\n",
       "      <td>0.005147</td>\n",
       "      <td>24.227832</td>\n",
       "      <td>1.284637e+00</td>\n",
       "      <td>24.000000</td>\n",
       "      <td>9</td>\n",
       "      <td>40.913906</td>\n",
       "      <td>38.525333</td>\n",
       "      <td>2.027852</td>\n",
       "    </tr>\n",
       "    <tr>\n",
       "      <th>...</th>\n",
       "      <td>...</td>\n",
       "      <td>...</td>\n",
       "      <td>...</td>\n",
       "      <td>...</td>\n",
       "      <td>...</td>\n",
       "      <td>...</td>\n",
       "      <td>...</td>\n",
       "      <td>...</td>\n",
       "      <td>...</td>\n",
       "    </tr>\n",
       "    <tr>\n",
       "      <th>35</th>\n",
       "      <td>8.580488</td>\n",
       "      <td>0.005694</td>\n",
       "      <td>18.281435</td>\n",
       "      <td>1.201578e+01</td>\n",
       "      <td>26.666667</td>\n",
       "      <td>12</td>\n",
       "      <td>12.293360</td>\n",
       "      <td>11.247630</td>\n",
       "      <td>4.733746</td>\n",
       "    </tr>\n",
       "    <tr>\n",
       "      <th>52</th>\n",
       "      <td>17.041039</td>\n",
       "      <td>0.001164</td>\n",
       "      <td>28.288639</td>\n",
       "      <td>1.384765e+01</td>\n",
       "      <td>12.000000</td>\n",
       "      <td>8</td>\n",
       "      <td>10.699096</td>\n",
       "      <td>11.159743</td>\n",
       "      <td>3.234233</td>\n",
       "    </tr>\n",
       "    <tr>\n",
       "      <th>44</th>\n",
       "      <td>5.930840</td>\n",
       "      <td>0.004727</td>\n",
       "      <td>27.009087</td>\n",
       "      <td>1.428539e+01</td>\n",
       "      <td>12.000000</td>\n",
       "      <td>8</td>\n",
       "      <td>10.644768</td>\n",
       "      <td>11.106186</td>\n",
       "      <td>1.924817</td>\n",
       "    </tr>\n",
       "    <tr>\n",
       "      <th>0</th>\n",
       "      <td>40.584100</td>\n",
       "      <td>0.001058</td>\n",
       "      <td>28.366935</td>\n",
       "      <td>1.515903e+01</td>\n",
       "      <td>24.000000</td>\n",
       "      <td>8</td>\n",
       "      <td>10.002527</td>\n",
       "      <td>12.217005</td>\n",
       "      <td>2.739893</td>\n",
       "    </tr>\n",
       "    <tr>\n",
       "      <th>3</th>\n",
       "      <td>17.793363</td>\n",
       "      <td>0.001309</td>\n",
       "      <td>26.281778</td>\n",
       "      <td>1.882571e+01</td>\n",
       "      <td>40.000000</td>\n",
       "      <td>8</td>\n",
       "      <td>12.391160</td>\n",
       "      <td>11.674520</td>\n",
       "      <td>3.888217</td>\n",
       "    </tr>\n",
       "  </tbody>\n",
       "</table>\n",
       "<p>100 rows × 9 columns</p>\n",
       "</div>"
      ],
      "text/plain": [
       "               cw        Bt  qbo_periods  qbo_period_std  qbo_period_fft  \\\n",
       "run_id                                                                     \n",
       "78      63.111004  0.002280    11.466667    3.984022e-15       11.466667   \n",
       "1       44.617037  0.005099    24.116463    8.522248e-01       24.000000   \n",
       "64      49.812074  0.005277    23.683767    8.823445e-01       24.000000   \n",
       "60      21.845038  0.006956    19.117979    1.263149e+00       18.461538   \n",
       "15      33.698484  0.005147    24.227832    1.284637e+00       24.000000   \n",
       "...           ...       ...          ...             ...             ...   \n",
       "35       8.580488  0.005694    18.281435    1.201578e+01       26.666667   \n",
       "52      17.041039  0.001164    28.288639    1.384765e+01       12.000000   \n",
       "44       5.930840  0.004727    27.009087    1.428539e+01       12.000000   \n",
       "0       40.584100  0.001058    28.366935    1.515903e+01       24.000000   \n",
       "3       17.793363  0.001309    26.281778    1.882571e+01       40.000000   \n",
       "\n",
       "        qbo_count  qbo_rmse_ampltiude  qbo_amplitude_mean  qbo_amplitude_std  \n",
       "run_id                                                                        \n",
       "78             19           12.475006           17.731903           0.000000  \n",
       "1               9           42.536683           39.017867           1.996191  \n",
       "64              9           46.075949           42.475577           1.897165  \n",
       "60             12           34.874135           35.291554           1.546429  \n",
       "15              9           40.913906           38.525333           2.027852  \n",
       "...           ...                 ...                 ...                ...  \n",
       "35             12           12.293360           11.247630           4.733746  \n",
       "52              8           10.699096           11.159743           3.234233  \n",
       "44              8           10.644768           11.106186           1.924817  \n",
       "0               8           10.002527           12.217005           2.739893  \n",
       "3               8           12.391160           11.674520           3.888217  \n",
       "\n",
       "[100 rows x 9 columns]"
      ]
     },
     "execution_count": 20,
     "metadata": {},
     "output_type": "execute_result"
    }
   ],
   "source": [
    "%matplotlib qt\n",
    "\n",
    "from sklearnex import patch_sklearn\n",
    "patch_sklearn()\n",
    "import pandas as pd\n",
    "import matplotlib.pyplot as plt\n",
    "\n",
    "df = pd.read_csv(\"../data/qbo_data.csv\",index_col=\"run_id\")\n",
    "df = df.sort_values(\"qbo_period_std\")\n",
    "df"
   ]
  },
  {
   "attachments": {},
   "cell_type": "markdown",
   "metadata": {},
   "source": [
    "## Constants"
   ]
  },
  {
   "cell_type": "code",
   "execution_count": 21,
   "metadata": {},
   "outputs": [],
   "source": [
    "OBS_PERIOD_MEAN = 27.915249015787193\n",
    "OBS_PERIOD_STD = 4.538404428603899\n",
    "\n",
    "OBS_AMP_MEAN = 26.587500000000002\n",
    "OBS_AMP_STD =2.953799762291663\n",
    "\n",
    "CURRENT_CW = 35\n",
    "CURRENT_BT = 0.0043"
   ]
  },
  {
   "cell_type": "code",
   "execution_count": 22,
   "metadata": {},
   "outputs": [],
   "source": [
    "import numpy as np\n",
    "X = df[[\"Bt\",\"cw\"]].to_numpy()\n",
    "y_point_error = df[[\"qbo_period_std\",\"qbo_amplitude_std\"]].to_numpy()\n",
    "y = df[[\"qbo_periods\",\"qbo_amplitude_mean\"]].to_numpy()\n",
    "\n",
    "mean_y = np.mean(y,axis=0)\n",
    "std_y = np.std(y,axis=0)\n",
    "y_norm = (y - mean_y)/std_y\n",
    "y_point_error = y_point_error/std_y"
   ]
  },
  {
   "cell_type": "code",
   "execution_count": 23,
   "metadata": {},
   "outputs": [],
   "source": [
    "from sklearn.decomposition import PCA\n",
    "from sklearn.preprocessing import StandardScaler\n",
    "scaler = StandardScaler()\n",
    "X_scaled = scaler.fit_transform(X)\n",
    "\n",
    "\n"
   ]
  },
  {
   "cell_type": "code",
   "execution_count": 24,
   "metadata": {},
   "outputs": [
    {
     "data": {
      "text/plain": [
       "GaussianProcessRegressor(alpha=array([0.        , 0.03549996, 0.03206519, 0.02130511, 0.03663503,\n",
       "       0.10000635, 0.04755545, 0.02341443, 0.06873481, 0.02064695,\n",
       "       0.04364164, 0.02059658, 0.03307179, 0.02997074, 0.02992444,\n",
       "       0.03964912, 0.04184283, 0.03742722, 0.11043406, 0.05490023,\n",
       "       0.03823451, 0.11996331, 0.01288341, 0.07016622, 0.01811312,\n",
       "       0.02961625, 0.03895552, 0.03613724, 0.02275002, 0...\n",
       "       0.06821497, 0.04865237, 0.03485085, 0.06325704, 0.40887736,\n",
       "       0.18426707, 0.07807244, 0.05403737, 0.50658962, 0.11072214,\n",
       "       0.25057328, 0.00183975, 0.24559099, 0.11531212, 0.0554244 ,\n",
       "       0.58435664, 0.46871923, 0.11444193, 0.37895374, 0.05736947,\n",
       "       0.45566798, 0.22893497, 0.07042133, 0.04721502, 0.12249928,\n",
       "       0.07578465, 0.03409722, 0.0418027 , 0.04109161, 0.60180053,\n",
       "       0.19963368, 0.09318942, 0.03300674, 0.06687922, 0.13468677]))"
      ]
     },
     "execution_count": 24,
     "metadata": {},
     "output_type": "execute_result"
    }
   ],
   "source": [
    "from sklearn.gaussian_process import GaussianProcessRegressor\n",
    "\n",
    "gpr_period = GaussianProcessRegressor(alpha=(y_point_error[:,0])**2)\n",
    "gpr_amplitude = GaussianProcessRegressor(alpha=(y_point_error[:,1])**2)\n",
    "gpr_period.fit(X_scaled,y_norm[:,0])\n",
    "gpr_amplitude.fit(X_scaled,y_norm[:,1])\n"
   ]
  },
  {
   "cell_type": "code",
   "execution_count": 25,
   "metadata": {},
   "outputs": [],
   "source": [
    "import numpy as np\n",
    "cw = np.linspace(5,70,1000)\n",
    "Bt = np.ones(len(cw))*0.0043\n",
    "x_samples = np.array([Bt,cw]).T\n",
    "x_samples = scaler.transform(x_samples)\n",
    "\n"
   ]
  },
  {
   "cell_type": "code",
   "execution_count": 26,
   "metadata": {},
   "outputs": [],
   "source": [
    "samples,samples_std = gpr_period.predict(x_samples,return_std=True)\n",
    "samples = samples*std_y[0] + mean_y[0]"
   ]
  },
  {
   "cell_type": "code",
   "execution_count": 27,
   "metadata": {},
   "outputs": [],
   "source": [
    "# import matplotlib.pyplot as plt\n",
    "# fig,(ax1,ax2)= plt.subplots(nrows=1,ncols=2,figsize=(10,6))\n",
    "\n",
    "# ax1.plot(cw,samples)\n",
    "# ax1.fill_between(\n",
    "#     cw,\n",
    "#     samples - 1.96*samples_std*std_y[0],\n",
    "#     samples + 1.96*samples_std*std_y[0],\n",
    "#     color=\"tab:blue\",\n",
    "#     alpha=0.5,\n",
    "#     label=r\"95% confidence interval\",\n",
    "# )\n",
    "# ax1.axhline(OBS_MEAN,color='black',label=\"True Observation\")\n",
    "# ax1.fill_between(cw,OBS_MEAN-OBS_STD,OBS_MEAN+OBS_STD,color='black',alpha=0.3)\n",
    "# ax1.set_xlabel(\"Cw tropics\")\n",
    "# ax1.set_ylabel(\"QBO Period (months)\")\n",
    "# ax1.errorbar(X[:,1],y[:,0],yerr=y_point_error[:,0]*std_y[0],fmt='o',label=\"MiMA runs\")\n",
    "# ax1.set_ylim(10,40)\n",
    "# ax1.legend()\n",
    "\n",
    "# ax2.plot(cw,implausability)\n",
    "# ax2.axhline(np.percentile(implausability,20),c='g',label=f\"20th percentile implausability cut off \")\n",
    "# ax2.legend()\n",
    "# ax2.set_ylabel(\"1D Implausability\")\n",
    "# ax2.set_xlabel(\"cw\")"
   ]
  },
  {
   "attachments": {},
   "cell_type": "markdown",
   "metadata": {},
   "source": [
    "### 3D Plots?"
   ]
  },
  {
   "cell_type": "code",
   "execution_count": 28,
   "metadata": {},
   "outputs": [],
   "source": [
    "CW_POINTS = 1000\n",
    "BT_POINTS = 1000\n",
    "cw = np.linspace(5,70,CW_POINTS)\n",
    "Bt = np.linspace(0.001,0.007,BT_POINTS)\n",
    "X_Bt,Y_cw = np.meshgrid(Bt,cw)\n",
    "x_samples = np.vstack((X_Bt.ravel(),Y_cw.ravel())).T\n",
    "x_samples = scaler.transform(x_samples)\n"
   ]
  },
  {
   "cell_type": "code",
   "execution_count": 29,
   "metadata": {},
   "outputs": [],
   "source": [
    "period,period_std = gpr_period.predict(x_samples,return_std=True)\n",
    "period = period*std_y[0] + mean_y[0]\n",
    "period = period.reshape((CW_POINTS,BT_POINTS))\n",
    "period_std = (period_std*std_y[0]).reshape((CW_POINTS,BT_POINTS))\n",
    "\n",
    "\n",
    "amplitude,amplitude_std = gpr_amplitude.predict(x_samples,return_std=True)\n",
    "amplitude = amplitude*std_y[1] + mean_y[1]\n",
    "amplitude = amplitude.reshape((CW_POINTS,BT_POINTS))\n",
    "amplitude_std = (amplitude_std*std_y[1]).reshape((CW_POINTS,BT_POINTS))"
   ]
  },
  {
   "cell_type": "code",
   "execution_count": 30,
   "metadata": {},
   "outputs": [],
   "source": [
    "implausability_period = np.abs(period - OBS_PERIOD_MEAN)/np.sqrt(OBS_PERIOD_STD**2 + period_std**2)\n",
    "implausability_amplitude = np.abs(amplitude - OBS_AMP_MEAN)/np.sqrt(OBS_AMP_STD**2 + amplitude_std**2)\n",
    "implausability = np.sqrt(implausability_amplitude**2 + implausability_period**2)"
   ]
  },
  {
   "cell_type": "code",
   "execution_count": 31,
   "metadata": {},
   "outputs": [],
   "source": [
    "imp_cutoff = implausability < np.percentile(implausability,20)"
   ]
  },
  {
   "cell_type": "code",
   "execution_count": 32,
   "metadata": {},
   "outputs": [
    {
     "data": {
      "text/plain": [
       "Text(0.5, 0, 'Bt')"
      ]
     },
     "execution_count": 32,
     "metadata": {},
     "output_type": "execute_result"
    }
   ],
   "source": [
    "fig,(ax1,ax2,ax3) = plt.subplots(1,3,figsize=(14,6))\n",
    "CS = ax1.contour(X_Bt,Y_cw,amplitude,levels=25)\n",
    "ax1.scatter(X[:,0],X[:,1],)\n",
    "ax1.scatter(CURRENT_BT,CURRENT_CW)\n",
    "ax1.clabel(CS, CS.levels, inline=True,  fontsize=10)\n",
    "ax1.set_ylabel(\"Cw\")\n",
    "ax1.set_xlabel(\"Bt\")\n",
    "\n",
    "CS2 = ax2.contour(X_Bt,Y_cw,period,levels=25)\n",
    "ax2.scatter(X[:,0],X[:,1],)\n",
    "ax2.scatter(CURRENT_BT,CURRENT_CW)\n",
    "ax2.clabel(CS2, CS2.levels, inline=True,  fontsize=10)\n",
    "ax2.set_ylabel(\"Cw\")\n",
    "ax2.set_xlabel(\"Bt\")\n",
    "\n",
    "ax3.contour(X_Bt,Y_cw,implausability,levels=25)\n",
    "ax3.contourf(X_Bt,Y_cw,imp_cutoff,alpha=0.3,cmap='RdYlGn',levels=1)\n",
    "ax3.scatter(X[:,0],X[:,1])\n",
    "ax3.scatter(CURRENT_BT,CURRENT_CW)\n",
    "ax3.set_ylabel(\"Cw\")\n",
    "ax3.set_xlabel(\"Bt\")"
   ]
  },
  {
   "cell_type": "code",
   "execution_count": 33,
   "metadata": {},
   "outputs": [
    {
     "data": {
      "text/plain": [
       "Text(0.5, 0, 'Implausability')"
      ]
     },
     "execution_count": 33,
     "metadata": {},
     "output_type": "execute_result"
    }
   ],
   "source": [
    "from mpl_toolkits.mplot3d import axes3d\n",
    "ax = plt.figure(figsize=(10,10)).add_subplot(projection='3d')\n",
    "ax.plot_surface(X_Bt,Y_cw,implausability,cmap='viridis')\n",
    "ax.set_xlabel(\"Bt\")\n",
    "ax.set_ylabel(\"Cw\")\n",
    "ax.set_zlabel(\"Implausability\")"
   ]
  },
  {
   "attachments": {},
   "cell_type": "markdown",
   "metadata": {},
   "source": [
    "## Calculate Decision Boundary + Sampling"
   ]
  },
  {
   "cell_type": "code",
   "execution_count": 34,
   "metadata": {},
   "outputs": [],
   "source": [
    "def get_new_samples(new_sample_space,X,Y,n_samples=100):\n",
    "    \"\"\"\n",
    "    MCMC sampling.\n",
    "    Probably not very\n",
    "    Dimensions of new_sample_space,X,Y, must match\n",
    "    \"\"\"\n",
    "    ## Calculating bounding box of new_sample_space.\n",
    "    y_where,x_where = np.where(new_sample_space)\n",
    "    x_min,x_max,y_min,y_max = X_Bt[0,np.min(x_where)],X_Bt[0,np.max(x_where)],Y_cw[np.min(y_where),0],Y_cw[np.max(y_where),0]\n",
    "    new_samples = []\n",
    "    while len(new_samples) < n_samples:\n",
    "        # Sample random point in original sample space \n",
    "        x,y = np.random.uniform(low=(x_min,y_min),high=(x_max,y_max))\n",
    "        col = np.argmin(np.abs(X-x),axis=1)[1]\n",
    "        row = np.argmin(np.abs(Y-y),axis=0)[0]\n",
    "        if new_sample_space[row,col]:\n",
    "            new_samples.append((x,y))\n",
    "        # Check sample point meets plausability criterion\n",
    "    return np.array(new_samples)\n"
   ]
  },
  {
   "cell_type": "code",
   "execution_count": 35,
   "metadata": {},
   "outputs": [],
   "source": [
    "new_samples = get_new_samples(imp_cutoff,X_Bt,Y_cw)"
   ]
  },
  {
   "cell_type": "code",
   "execution_count": 36,
   "metadata": {},
   "outputs": [
    {
     "data": {
      "text/plain": [
       "<matplotlib.collections.PathCollection at 0x1ac1950f550>"
      ]
     },
     "execution_count": 36,
     "metadata": {},
     "output_type": "execute_result"
    }
   ],
   "source": [
    "fig,(ax1,ax2,ax3) = plt.subplots(1,3,figsize=(14,6))\n",
    "CS = ax1.contour(X_Bt,Y_cw,amplitude,levels=25)\n",
    "ax1.scatter(X[:,0],X[:,1],)\n",
    "ax1.scatter(CURRENT_BT,CURRENT_CW)\n",
    "ax1.clabel(CS, CS.levels, inline=True,  fontsize=10)\n",
    "ax1.set_ylabel(\"Cw\")\n",
    "ax1.set_xlabel(\"Bt\")\n",
    "\n",
    "CS2 = ax2.contour(X_Bt,Y_cw,period,levels=25)\n",
    "ax2.scatter(X[:,0],X[:,1],)\n",
    "ax2.scatter(CURRENT_BT,CURRENT_CW)\n",
    "ax2.clabel(CS2, CS2.levels, inline=True,  fontsize=10)\n",
    "ax2.set_ylabel(\"Cw\")\n",
    "ax2.set_xlabel(\"Bt\")\n",
    "\n",
    "ax3.contour(X_Bt,Y_cw,implausability,levels=25)\n",
    "ax3.contourf(X_Bt,Y_cw,imp_cutoff,alpha=0.3,cmap='RdYlGn',levels=1)\n",
    "ax3.scatter(X[:,0],X[:,1])\n",
    "ax3.scatter(CURRENT_BT,CURRENT_CW)\n",
    "ax3.set_ylabel(\"Cw\")\n",
    "ax3.set_xlabel(\"Bt\")\n",
    "ax3.scatter(new_samples[:,0],new_samples[:,1],c='r')"
   ]
  },
  {
   "cell_type": "code",
   "execution_count": null,
   "metadata": {},
   "outputs": [],
   "source": []
  }
 ],
 "metadata": {
  "kernelspec": {
   "display_name": "history_matching",
   "language": "python",
   "name": "python3"
  },
  "language_info": {
   "codemirror_mode": {
    "name": "ipython",
    "version": 3
   },
   "file_extension": ".py",
   "mimetype": "text/x-python",
   "name": "python",
   "nbconvert_exporter": "python",
   "pygments_lexer": "ipython3",
   "version": "3.10.8"
  },
  "orig_nbformat": 4,
  "vscode": {
   "interpreter": {
    "hash": "6f5b105d2323d8e199dfd4cc5eb10da44e3288581d181c73a9e1bde7b929110e"
   }
  }
 },
 "nbformat": 4,
 "nbformat_minor": 2
}
